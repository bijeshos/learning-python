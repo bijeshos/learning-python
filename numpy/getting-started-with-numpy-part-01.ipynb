{
 "cells": [
  {
   "cell_type": "markdown",
   "metadata": {},
   "source": [
    "# Introduction to NumPy - Part 01\n",
    "\n",
    "This notebook provides an introduction to NumPy. This is part 1 of the series."
   ]
  },
  {
   "cell_type": "markdown",
   "metadata": {},
   "source": [
    "### Import \n",
    "\n",
    "Before we explore more on NumPy, let's import NumPy and print the version being used."
   ]
  },
  {
   "cell_type": "code",
   "execution_count": 1,
   "metadata": {
    "_cell_guid": "b1076dfc-b9ad-4769-8c92-a6c4dae69d19",
    "_uuid": "8f2839f25d086af736a60e9eeb907d3b93b6e0e5"
   },
   "outputs": [
    {
     "name": "stdout",
     "output_type": "stream",
     "text": [
      "numpy version: 1.16.2\n"
     ]
    }
   ],
   "source": [
    "import numpy as np\n",
    "print('numpy version: {}'.format(np.__version__))"
   ]
  },
  {
   "cell_type": "markdown",
   "metadata": {},
   "source": [
    "### Array Initialization  \n",
    "\n",
    "There are multiple ways arrays can be initialized in NumPy. Those options include:  \n",
    "\n",
    "- From existing data: Creates a new array using existing data  \n",
    "- Ones:  Creates a new array of given shape and type, filled with ones  \n",
    "- Ones-Like: Creates an array of ones with the same shape and type as a given array   \n",
    "- Zeros: Creates a new array of given shape and type, filled with zeros  \n",
    "- Zeros-Like: Creates an array of zeros with the same shape and type as a given array    \n",
    "- Full: Creates a new array of given shape and type, filled with fill_value  \n",
    "- Full-Like: Creates a full array with the same shape and type as a given array  \n",
    "- Eye: Creates a 2-D array with ones on the diagonal and zeros elsewhere  \n",
    "- Identity: Creates the identity array  \n",
    "- Random: Creates a random array of given size  "
   ]
  },
  {
   "cell_type": "code",
   "execution_count": 2,
   "metadata": {},
   "outputs": [
    {
     "name": "stdout",
     "output_type": "stream",
     "text": [
      "data_1d: [1 2 3 4 5]\n",
      "data_2d: [[ 1.+0.j  2.+0.j  3.+0.j  4.+0.j  5.+0.j]\n",
      " [ 6.+0.j  7.+0.j  8.+0.j  9.+0.j 10.+0.j]]\n",
      "ones: [1. 1. 1. 1. 1.]\n",
      "ones_like: [[1.+0.j 1.+0.j 1.+0.j 1.+0.j 1.+0.j]\n",
      " [1.+0.j 1.+0.j 1.+0.j 1.+0.j 1.+0.j]]\n",
      "zeros: [0. 0. 0. 0. 0.]\n",
      "zeros_like: [[0.+0.j 0.+0.j 0.+0.j 0.+0.j 0.+0.j]\n",
      " [0.+0.j 0.+0.j 0.+0.j 0.+0.j 0.+0.j]]\n",
      "full: [[3 3 3 3 3]\n",
      " [3 3 3 3 3]\n",
      " [3 3 3 3 3]\n",
      " [3 3 3 3 3]\n",
      " [3 3 3 3 3]]\n",
      "full_like: [[3.+0.j 3.+0.j 3.+0.j 3.+0.j 3.+0.j]\n",
      " [3.+0.j 3.+0.j 3.+0.j 3.+0.j 3.+0.j]]\n",
      "random: [0.40502411 0.18812153 0.99176248 0.57391474 0.77799173]\n",
      "eye_a: [[1 0]\n",
      " [0 1]]\n",
      "eye_b: [[1 0 0]\n",
      " [0 1 0]]\n",
      "eye_c: [[0. 1. 0.]\n",
      " [0. 0. 1.]\n",
      " [0. 0. 0.]]\n",
      "identity: [[1. 0. 0. 0.]\n",
      " [0. 1. 0. 0.]\n",
      " [0. 0. 1. 0.]\n",
      " [0. 0. 0. 1.]]\n",
      "ones: [[[1. 1.]\n",
      "  [1. 1.]\n",
      "  [1. 1.]]\n",
      "\n",
      " [[1. 1.]\n",
      "  [1. 1.]\n",
      "  [1. 1.]]\n",
      "\n",
      " [[1. 1.]\n",
      "  [1. 1.]\n",
      "  [1. 1.]]\n",
      "\n",
      " [[1. 1.]\n",
      "  [1. 1.]\n",
      "  [1. 1.]]]\n",
      "zeros: [[[0. 0.]\n",
      "  [0. 0.]\n",
      "  [0. 0.]]\n",
      "\n",
      " [[0. 0.]\n",
      "  [0. 0.]\n",
      "  [0. 0.]]\n",
      "\n",
      " [[0. 0.]\n",
      "  [0. 0.]\n",
      "  [0. 0.]]\n",
      "\n",
      " [[0. 0.]\n",
      "  [0. 0.]\n",
      "  [0. 0.]]]\n",
      "random: [[[0.30833946 0.66590634]\n",
      "  [0.4454718  0.15545173]\n",
      "  [0.62890245 0.85935692]]\n",
      "\n",
      " [[0.16492794 0.80300586]\n",
      "  [0.95818723 0.47377525]\n",
      "  [0.0718506  0.22007302]]\n",
      "\n",
      " [[0.01976284 0.61379423]\n",
      "  [0.96497514 0.80117853]\n",
      "  [0.89154079 0.68417446]]\n",
      "\n",
      " [[0.68109049 0.94953683]\n",
      "  [0.20960783 0.50590094]\n",
      "  [0.60441102 0.26179192]]]\n"
     ]
    }
   ],
   "source": [
    "# initialize a numpy array using custom data\n",
    "data_1d = np.array([1, 2, 3, 4, 5])\n",
    "data_2d = np.array([[1, 2, 3, 4, 5],[6,7,8,9,10]], dtype='complex') # specify the data type\n",
    "\n",
    "# initialize an array with 5 ones\n",
    "ones = np.ones(5)\n",
    "ones_like = np.ones_like(data_2d)\n",
    "\n",
    "# initialize an array with 5 zeros\n",
    "zeros = np.zeros(5)\n",
    "zeros_like = np.zeros_like(data_2d)\n",
    "\n",
    "full = np.full((5,5),3)\n",
    "full_like = np.full_like(data_2d,3)\n",
    "\n",
    "# initialize an array with 5 random numbers\n",
    "random = np.random.random(5)\n",
    "\n",
    "eye_a = np.eye(2, dtype=int)\n",
    "eye_b = np.eye(2,3, dtype=int)\n",
    "eye_c = np.eye(3, k=1) # k: index of the diagonal\n",
    "\n",
    "\n",
    "identity = np.identity(4)\n",
    "\n",
    "# print the arrays\n",
    "print('data_1d: {}'.format(data_1d))\n",
    "print('data_2d: {}'.format(data_2d))\n",
    "print('ones: {}'.format(ones))\n",
    "print('ones_like: {}'.format(ones_like))\n",
    "print('zeros: {}'.format(zeros))\n",
    "print('zeros_like: {}'.format(zeros_like))\n",
    "print('full: {}'.format(full))\n",
    "print('full_like: {}'.format(full_like))\n",
    "print('random: {}'.format(random))\n",
    "print('eye_a: {}'.format(eye_a))\n",
    "print('eye_b: {}'.format(eye_b))\n",
    "print('eye_c: {}'.format(eye_c))\n",
    "print('identity: {}'.format(identity))\n",
    "\n",
    "# more dimensions\n",
    "ones = np.ones((4,3,2))\n",
    "zeros = np.zeros((4,3,2))\n",
    "random = np.random.random((4,3,2))\n",
    "\n",
    "print('ones: {}'.format(ones))\n",
    "print('zeros: {}'.format(zeros))\n",
    "print('random: {}'.format(random))"
   ]
  },
  {
   "cell_type": "markdown",
   "metadata": {},
   "source": [
    "### Array Properties\n",
    "\n",
    "A ndarray has multiple properties. Among them, following are a few useful ones:  \n",
    "- shape: Nuple of array dimensions    \n",
    "- ndim: Number of array dimensions   \n",
    "- size: Number of elements in the array   \n",
    "- dtype: Data-type of the array’s elements   \n",
    "- itemsize: Length of one array element in bytes   \n",
    "- data: Python buffer object pointing to the start of the array’s data.   "
   ]
  },
  {
   "cell_type": "code",
   "execution_count": 3,
   "metadata": {},
   "outputs": [
    {
     "name": "stdout",
     "output_type": "stream",
     "text": [
      "ones.shape: (10,)\n",
      "ones.ndim: 1\n",
      "ones.size: 10\n",
      "ones.dtype: float64\n",
      "ones.itemsize: 8\n",
      "ones.data: <memory at 0x7f00a400f588>\n"
     ]
    }
   ],
   "source": [
    "# initialize an array with 10 ones\n",
    "ones = np.ones(10)\n",
    "\n",
    "print('ones.shape: {}'.format(ones.shape))\n",
    "print('ones.ndim: {}'.format(ones.ndim))\n",
    "print('ones.size: {}'.format(ones.size))\n",
    "print('ones.dtype: {}'.format(ones.dtype))\n",
    "print('ones.itemsize: {}'.format(ones.itemsize))\n",
    "print('ones.data: {}'.format(ones.data))\n"
   ]
  },
  {
   "cell_type": "markdown",
   "metadata": {},
   "source": [
    "### Array Ranges\n",
    "\n",
    "Following are a few options to create arrays from using ranges:\n",
    "\n",
    "- arange: evenly spaced values within a given interval (excluding stop)  \n",
    "- linspace: evenly spaced numbers over a specified interval  \n"
   ]
  },
  {
   "cell_type": "code",
   "execution_count": 4,
   "metadata": {},
   "outputs": [
    {
     "name": "stdout",
     "output_type": "stream",
     "text": [
      "a: [ 0  1  2  3  4  5  6  7  8  9 10 11 12 13 14]\n",
      "b: [10 15 20 25 30 35 40 45]\n",
      "c: [0.  0.2 0.4 0.6 0.8 1.  1.2 1.4 1.6 1.8 2.  2.2 2.4 2.6 2.8 3.  3.2 3.4\n",
      " 3.6 3.8 4.  4.2 4.4 4.6 4.8]\n",
      "f: [2.   2.25 2.5  2.75 3.  ]\n",
      "g: [2.  2.2 2.4 2.6 2.8]\n",
      "h: (array([2.  , 2.25, 2.5 , 2.75, 3.  ]), 0.25)\n",
      "a.shape: (15,)\n",
      "a.ndim: 1\n",
      "a.size: 15\n",
      "a.dtype: int64\n",
      "a.itemsize: 8\n",
      "a.data: <memory at 0x7f00a400f588>\n",
      "type(a): <class 'numpy.ndarray'>\n",
      "b.shape: (8,)\n",
      "b.ndim: 1\n",
      "b.size: 8\n",
      "b.dtype: int64\n",
      "b.itemsize: 8\n",
      "b.data: <memory at 0x7f00a400f588>\n",
      "type(b): <class 'numpy.ndarray'>\n"
     ]
    }
   ],
   "source": [
    "a = np.arange(15)\n",
    "b = np.arange(10,50,5)\n",
    "c = np.arange(0,5,.2)\n",
    "\n",
    "f = np.linspace(2.0, 3.0, num=5)\n",
    "g = np.linspace(2.0, 3.0, num=5, endpoint=False)\n",
    "h = np.linspace(2.0, 3.0, num=5, retstep=True)\n",
    "\n",
    "print('a: {}'.format(a))\n",
    "print('b: {}'.format(b))\n",
    "print('c: {}'.format(c))\n",
    "\n",
    "print('f: {}'.format(f))\n",
    "print('g: {}'.format(g))\n",
    "print('h: {}'.format(h))\n",
    "\n",
    "\n",
    "print('a.shape: {}'.format(a.shape))\n",
    "print('a.ndim: {}'.format(a.ndim))\n",
    "print('a.size: {}'.format(a.size))\n",
    "print('a.dtype: {}'.format(a.dtype))\n",
    "print('a.itemsize: {}'.format(a.itemsize))\n",
    "print('a.data: {}'.format(a.data))\n",
    "print('type(a): {}'.format(type(a)))\n",
    "\n",
    "print('b.shape: {}'.format(b.shape))\n",
    "print('b.ndim: {}'.format(b.ndim))\n",
    "print('b.size: {}'.format(b.size))\n",
    "print('b.dtype: {}'.format(b.dtype))\n",
    "print('b.itemsize: {}'.format(b.itemsize))\n",
    "print('b.data: {}'.format(b.data))\n",
    "print('type(b): {}'.format(type(b)))"
   ]
  },
  {
   "cell_type": "markdown",
   "metadata": {},
   "source": [
    "### Shape Manipulations\n",
    "NumPy provides many options to do shape manipulations such as:\n",
    "\n",
    "- reshape: Returns an array containing the same data with a new shape   \n",
    "- ravel: Return a flattened array  \n",
    "- flatten: Return a copy of the array collapsed into one dimension\n",
    "- repeat: Repeat elements of an array  \n",
    "- sort: Sort an array in-place  \n",
    "- take: Return an array formed from the elements of a at the given indices  \n",
    "- transpose :  matrix transpose  \n",
    "- inverse : matrix inverse  "
   ]
  },
  {
   "cell_type": "code",
   "execution_count": 5,
   "metadata": {},
   "outputs": [
    {
     "name": "stdout",
     "output_type": "stream",
     "text": [
      "a: [[ 0  1  2  3  4]\n",
      " [ 5  6  7  8  9]\n",
      " [10 11 12 13 14]]\n",
      "b: [[[ 0  1  2  3]\n",
      "  [ 4  5  6  7]\n",
      "  [ 8  9 10 11]]\n",
      "\n",
      " [[12 13 14 15]\n",
      "  [16 17 18 19]\n",
      "  [20 21 22 23]]]\n",
      "b.flatten(): [ 0  1  2  3  4  5  6  7  8  9 10 11 12 13 14 15 16 17 18 19 20 21 22 23]\n",
      "b.ravel(): [ 0  1  2  3  4  5  6  7  8  9 10 11 12 13 14 15 16 17 18 19 20 21 22 23]\n",
      "np.repeat(3, 4): [3 3 3 3]\n",
      "x: [[1 2]\n",
      " [3 4]]\n",
      "np.repeat(x, 2): [1 1 2 2 3 3 4 4]\n",
      "np.repeat(x, 3, axis=1): [[1 1 1 2 2 2]\n",
      " [3 3 3 4 4 4]]\n",
      "np.repeat(x, [1, 2], axis=0): [[1 2]\n",
      " [3 4]\n",
      " [3 4]]\n",
      "c: [[4 3]\n",
      " [2 1]]\n",
      "c (after sort over axis=1): [[3 4]\n",
      " [1 2]]\n",
      "c (after sort over axis=0): [[1 2]\n",
      " [3 4]]\n",
      "np.take(d, indices): [4 3 6]\n",
      "np.take(d, [[0, 1], [2, 3]]): [[4 3]\n",
      " [5 7]]\n",
      "data.reshape(2,3): [[1 2 3]\n",
      " [4 5 6]]\n",
      "data.reshape(3,2): [[1 2]\n",
      " [3 4]\n",
      " [5 6]]\n",
      "data.transpose(): [[ 1  6]\n",
      " [ 2  7]\n",
      " [ 3  8]\n",
      " [ 4  9]\n",
      " [ 5 10]]\n",
      "np.linalg.inv(data_2d): [[-2.   1. ]\n",
      " [ 1.5 -0.5]]\n"
     ]
    }
   ],
   "source": [
    "a = np.arange(15).reshape(3, 5)\n",
    "b = np.arange(24).reshape(2,3,4)\n",
    "\n",
    "print('a: {}'.format(a))\n",
    "print('b: {}'.format(b))\n",
    "\n",
    "print('b.flatten(): {}'.format(b.flatten()))\n",
    "print('b.ravel(): {}'.format(b.ravel()))\n",
    "\n",
    "print('np.repeat(3, 4): {}'.format(np.repeat(3, 4)))\n",
    "\n",
    "x = np.array([[1,2],[3,4]])\n",
    "print('x: {}'.format(x))\n",
    "print('np.repeat(x, 2): {}'.format(np.repeat(x, 2))) # 2 is the number of repetitions for each element. repeats is broadcasted to fit the shape of the given axis.\n",
    "print('np.repeat(x, 3, axis=1): {}'.format(np.repeat(x, 3, axis=1)))\n",
    "print('np.repeat(x, [1, 2], axis=0): {}'.format(np.repeat(x, [1, 2], axis=0)))\n",
    "\n",
    "c = np.array([[4,3], [2,1]])\n",
    "print('c: {}'.format(c))\n",
    "c.sort(axis=1)\n",
    "print('c (after sort over axis=1): {}'.format(c))\n",
    "c.sort(axis=0)\n",
    "print('c (after sort over axis=0): {}'.format(c))\n",
    "\n",
    "d = np.array([4, 3, 5, 7, 6, 8])\n",
    "indices = [0, 1, 4]\n",
    "\n",
    "print('np.take(d, indices): {}'.format(np.take(d, indices)))\n",
    "print('np.take(d, [[0, 1], [2, 3]]): {}'.format(np.take(d, [[0, 1], [2, 3]])))\n",
    "\n",
    "data = np.array([1,2,3,4,5,6])\n",
    "\n",
    "print('data.reshape(2,3): {}'.format(data.reshape(2,3)))\n",
    "print('data.reshape(3,2): {}'.format(data.reshape(3,2)))\n",
    "\n",
    "data = np.arange(1,11,1).reshape(2,5) # array([[1, 2, 3, 4, 5],[6,7,8,9,10]])\n",
    "ones = np.ones((2,5))\n",
    "data_2d = np.array([[1,2],[3,4]])\n",
    "twos = np.full((2,5),2)\n",
    "\n",
    "print('data.transpose(): {}'.format(data.transpose())) # or data.T\n",
    "print('np.linalg.inv(data_2d): {}'.format(np.linalg.inv(data_2d)))\n"
   ]
  },
  {
   "cell_type": "markdown",
   "metadata": {},
   "source": [
    "### Joining Arrays   \n",
    "\n",
    "Following are some routines that can be used to join arrays:  \n",
    "\n",
    "- concatenate: Join a sequence of arrays along an existing axis  \n",
    "- stack: Join a sequence of arrays along a new axis  \n",
    "- column_stack: Stack 1-D arrays as columns into a 2-D array  \n",
    "- dstack: Stack arrays in sequence depth wise (along third axis)  \n",
    "- hstack: Stack arrays in sequence horizontally (column wise)  \n",
    "- vstack: Stack arrays in sequence vertically (row wise)  "
   ]
  },
  {
   "cell_type": "code",
   "execution_count": 6,
   "metadata": {},
   "outputs": [
    {
     "name": "stdout",
     "output_type": "stream",
     "text": [
      "a: [[1 2]\n",
      " [3 4]]\n",
      "b: [[5 6]]\n",
      "np.concatenate((a, b), axis=0): [[1 2]\n",
      " [3 4]\n",
      " [5 6]]\n",
      "np.concatenate((a, b.T), axis=1): [[1 2 5]\n",
      " [3 4 6]]\n",
      "np.concatenate((a, b), axis=None): [1 2 3 4 5 6]\n",
      "a: [1 2 3]\n",
      "b: [4 5 6]\n",
      "c: [[1]\n",
      " [2]\n",
      " [3]]\n",
      "d: [[4]\n",
      " [5]\n",
      " [6]]\n",
      "np.stack((a, b)): [[1 2 3]\n",
      " [4 5 6]]\n",
      "np.stack((a, b), axis=-1): [[1 4]\n",
      " [2 5]\n",
      " [3 6]]\n",
      "np.column_stack((a,b)): [[1 4]\n",
      " [2 5]\n",
      " [3 6]]\n",
      "np.dstack((a,b)): [[[1 4]\n",
      "  [2 5]\n",
      "  [3 6]]]\n",
      "np.dstack((c,d)): [[[1 4]]\n",
      "\n",
      " [[2 5]]\n",
      "\n",
      " [[3 6]]]\n",
      "np.hstack((a,b)): [1 2 3 4 5 6]\n",
      "np.hstack((c,d)): [[1 4]\n",
      " [2 5]\n",
      " [3 6]]\n",
      "np.vstack((a,b)): [[1 2 3]\n",
      " [4 5 6]]\n",
      "np.vstack((c,d)): [[1]\n",
      " [2]\n",
      " [3]\n",
      " [4]\n",
      " [5]\n",
      " [6]]\n"
     ]
    }
   ],
   "source": [
    "a = np.array([[1, 2], [3, 4]])\n",
    "b = np.array([[5, 6]])\n",
    "\n",
    "print('a: {}'.format(a))\n",
    "print('b: {}'.format(b))\n",
    "\n",
    "print('np.concatenate((a, b), axis=0): {}'.format(np.concatenate((a, b), axis=0)))\n",
    "print('np.concatenate((a, b.T), axis=1): {}'.format(np.concatenate((a, b.T), axis=1)))\n",
    "print('np.concatenate((a, b), axis=None): {}'.format(np.concatenate((a, b), axis=None)))\n",
    "\n",
    "a = np.array([1, 2, 3])\n",
    "b = np.array([4, 5, 6])\n",
    "\n",
    "c = np.array([[1],[2],[3]])\n",
    "d = np.array([[4],[5],[6]])\n",
    "\n",
    "\n",
    "print('a: {}'.format(a))\n",
    "print('b: {}'.format(b))\n",
    "print('c: {}'.format(c))\n",
    "print('d: {}'.format(d))\n",
    "\n",
    "print('np.stack((a, b)): {}'.format(np.stack((a, b))))\n",
    "print('np.stack((a, b), axis=-1): {}'.format(np.stack((a, b), axis=-1)))\n",
    "\n",
    "print('np.column_stack((a,b)): {}'.format(np.column_stack((a,b))))\n",
    "\n",
    "print('np.dstack((a,b)): {}'.format(np.dstack((a,b))))\n",
    "print('np.dstack((c,d)): {}'.format(np.dstack((c,d))))\n",
    "\n",
    "print('np.hstack((a,b)): {}'.format(np.hstack((a,b))))\n",
    "print('np.hstack((c,d)): {}'.format(np.hstack((c,d))))\n",
    "\n",
    "print('np.vstack((a,b)): {}'.format(np.vstack((a,b))))\n",
    "print('np.vstack((c,d)): {}'.format(np.vstack((c,d))))\n"
   ]
  },
  {
   "cell_type": "markdown",
   "metadata": {},
   "source": [
    " ### Array/Matrix Basic Operations  \n",
    " \n",
    " Following are some of the NumPy operations for Arrays/Matrices:  \n",
    " \n",
    " - Array/Matrix Operations:\n",
    "   - \\+  : element-wise addition  \n",
    "   - \\-  : element-wise subtraction  \n",
    "   - \\/  : element-wise division   \n",
    "   - \\*  : element-wise multiplication  \n",
    "   - \\** : element-wise square  \n",
    "   - \\<  : element-wise condition  \n",
    "   - +=  : addition (does not create a new array)  \n",
    "   - *=  : multiplication (does not create a new array)  \n",
    " \n",
    "- Matrix Operations:  \n",
    "  - \\@  : matrix multiplication  \n",
    "  - dot : matrix multiplication  \n",
    " "
   ]
  },
  {
   "cell_type": "code",
   "execution_count": 7,
   "metadata": {},
   "outputs": [
    {
     "name": "stdout",
     "output_type": "stream",
     "text": [
      "data: [1 2 3 4 5]\n",
      "ones: [1. 1. 1. 1. 1.]\n",
      "zeros: [0. 0. 0. 0. 0.]\n",
      "random: [0.1140144  0.58789542 0.67183496 0.98335075 0.50673281]\n",
      "data + ones: [2. 3. 4. 5. 6.]\n",
      "data - ones: [0. 1. 2. 3. 4.]\n",
      "data * ones: [1. 2. 3. 4. 5.]\n",
      "data / ones: [1. 2. 3. 4. 5.]\n",
      "data * 1.5: [1.5 3.  4.5 6.  7.5]\n",
      "data ** 2: [ 1  4  9 16 25]\n",
      "10 * np.sin(a): [ 8.41470985  9.09297427  1.41120008 -7.56802495 -9.58924275]\n",
      "data < 35: [ True  True  True  True  True]\n",
      "a (before): [[1 1 1]\n",
      " [1 1 1]]\n",
      "b (before): [[0.69726775 0.79829502 0.36415572]\n",
      " [0.48612794 0.51260749 0.55184129]]\n",
      "a (after): [[3 3 3]\n",
      " [3 3 3]]\n",
      "b (after): [[3.69726775 3.79829502 3.36415572]\n",
      " [3.48612794 3.51260749 3.55184129]]\n",
      "data: [[ 1  2  3  4  5]\n",
      " [ 6  7  8  9 10]]\n",
      "ones: [[1. 1. 1. 1. 1.]\n",
      " [1. 1. 1. 1. 1.]]\n",
      "data_2d: [[1 2]\n",
      " [3 4]]\n",
      "twos: [[2 2 2 2 2]\n",
      " [2 2 2 2 2]]\n",
      "data + ones (element-wise): [[ 2.  3.  4.  5.  6.]\n",
      " [ 7.  8.  9. 10. 11.]]\n",
      "data - ones (element-wise): [[0. 1. 2. 3. 4.]\n",
      " [5. 6. 7. 8. 9.]]\n",
      "data * twos (element-wise): [[ 2  4  6  8 10]\n",
      " [12 14 16 18 20]]\n",
      "data / twos (element-wise): [[0.5 1.  1.5 2.  2.5]\n",
      " [3.  3.5 4.  4.5 5. ]]\n",
      "data + 1.5 (element-wise): [[ 2.5  3.5  4.5  5.5  6.5]\n",
      " [ 7.5  8.5  9.5 10.5 11.5]]\n",
      "data @ np.ones((5,2)) (matrix product): [[15. 15.]\n",
      " [40. 40.]]\n",
      "data.dot(ones_b))(dot product): [[15. 15.]\n",
      " [40. 40.]]\n",
      "np.eye(4): [[1. 0. 0. 0.]\n",
      " [0. 1. 0. 0.]\n",
      " [0. 0. 1. 0.]\n",
      " [0. 0. 0. 1.]]\n"
     ]
    }
   ],
   "source": [
    "# Array Operations\n",
    "\n",
    "data = np.array([1, 2, 3, 4, 5])\n",
    "ones = np.ones(5)\n",
    "zeros = np.zeros(5)\n",
    "random = np.random.random(5)\n",
    "\n",
    "print('data: {}'.format(data))\n",
    "print('ones: {}'.format(ones))\n",
    "print('zeros: {}'.format(zeros))\n",
    "print('random: {}'.format(random))\n",
    "\n",
    "\n",
    "\n",
    "print('data + ones: {}'.format(data + ones))\n",
    "print('data - ones: {}'.format(data - ones))\n",
    "print('data * ones: {}'.format(data * ones))\n",
    "print('data / ones: {}'.format(data / ones))\n",
    "print('data * 1.5: {}'.format(data * 1.5))\n",
    "print('data ** 2: {}'.format(data ** 2))\n",
    "print('10 * np.sin(a): {}'.format(10 * np.sin(data)))\n",
    "print('data < 35: {}'.format(data < 35))\n",
    "\n",
    "a = np.ones((2,3), dtype=int)\n",
    "b = np.random.random((2,3))\n",
    "print('a (before): {}'.format(a))\n",
    "print('b (before): {}'.format(b))\n",
    "a *= 3\n",
    "\n",
    "print('a (after): {}'.format(a))\n",
    "b += a\n",
    "print('b (after): {}'.format(b))\n",
    "\n",
    "\n",
    "# Matrix Operations\n",
    "\n",
    "data = np.arange(1,11,1).reshape(2,5) # array([[1, 2, 3, 4, 5],[6,7,8,9,10]])\n",
    "ones = np.ones((2,5))\n",
    "data_2d = np.array([[1,2],[3,4]])\n",
    "twos = np.full((2,5),2)\n",
    "\n",
    "print('data: {}'.format(data))\n",
    "print('ones: {}'.format(ones))\n",
    "print('data_2d: {}'.format(data_2d))\n",
    "print('twos: {}'.format(twos))\n",
    "\n",
    "print('data + ones (element-wise): {}'.format(data + ones))\n",
    "print('data - ones (element-wise): {}'.format(data - ones))\n",
    "print('data * twos (element-wise): {}'.format(data * twos))\n",
    "print('data / twos (element-wise): {}'.format(data / twos))\n",
    "print('data + 1.5 (element-wise): {}'.format(data + 1.5))\n",
    "print('data @ np.ones((5,2)) (matrix product): {}'.format(data @ np.ones((5,2))))\n",
    "ones_b = np.ones((5,2))\n",
    "print('data.dot(ones_b))(dot product): {}'.format(data.dot(ones_b)))\n",
    "print('np.eye(4): {}'.format(np.eye(4))) # same as np.identity(4)\n",
    "\n"
   ]
  },
  {
   "cell_type": "markdown",
   "metadata": {},
   "source": [
    "### Indexing operations"
   ]
  },
  {
   "cell_type": "code",
   "execution_count": 8,
   "metadata": {},
   "outputs": [
    {
     "name": "stdout",
     "output_type": "stream",
     "text": [
      "data: [[ 1  2  3  4  5]\n",
      " [ 6  7  8  9 10]]\n",
      "data[0]: [1 2 3 4 5]\n",
      "data[1]: [ 6  7  8  9 10]\n",
      "data[0:2]: [[ 1  2  3  4  5]\n",
      " [ 6  7  8  9 10]]\n",
      "data[1:]: [[ 6  7  8  9 10]]\n",
      "data: [[1 2]\n",
      " [3 4]\n",
      " [5 6]]\n",
      "data[0,1]: 2\n",
      "data[1:3]: [[3 4]\n",
      " [5 6]]\n",
      "data[0:2,0]: [1 3]\n"
     ]
    }
   ],
   "source": [
    "data = np.array([[1, 2, 3, 4, 5],[6,7,8,9,10]])\n",
    "print('data: {}'.format(data))\n",
    "print('data[0]: {}'.format(data[0]))\n",
    "print('data[1]: {}'.format(data[1]))\n",
    "print('data[0:2]: {}'.format(data[0:2]))\n",
    "print('data[1:]: {}'.format(data[1:]))\n",
    "\n",
    "data = np.array([[1,2],[3,4],[5,6]])\n",
    "\n",
    "print('data: {}'.format(data))\n",
    "print('data[0,1]: {}'.format(data[0,1]))\n",
    "print('data[1:3]: {}'.format(data[1:3]))\n",
    "print('data[0:2,0]: {}'.format(data[0:2,0]))\n"
   ]
  },
  {
   "cell_type": "markdown",
   "metadata": {},
   "source": [
    "### Calculations\n",
    "\n",
    "- min: Return the minimum along a given axis  \n",
    "- max: Return the maximum along a given axis  \n",
    "- sum: Return the sum of the array elements over the given axis  \n",
    "- prod: Return the product of array elements over a given axis  \n",
    "- median: Compute the median along the specified axis  \n",
    "- average: Compute the weighted average along the specified axis  \n",
    "- mean: Returns the average of the array elements along given axis  \n",
    "- std: Returns the standard deviation of the array elements along given axis  \n",
    "- var: Returns the variance of the array elements, along given axis\n",
    "- trace: Return the sum along diagonals of the array  "
   ]
  },
  {
   "cell_type": "code",
   "execution_count": 9,
   "metadata": {},
   "outputs": [
    {
     "name": "stdout",
     "output_type": "stream",
     "text": [
      "data: [[ 1  2  3  4  5]\n",
      " [ 6  7  8  9 10]]\n",
      "data.max(): 10\n",
      "data.min(): 1\n",
      "data.sum(): 55\n",
      "data.prod(): 3628800\n",
      "data.mean(): 5.5\n",
      "data.std(): 2.8722813232690143\n",
      "data.var(): 8.25\n",
      "data.trace(): 8\n",
      "data.max(): 10\n",
      "data.min(): 1\n",
      "data.sum(): 55\n",
      "data.max(axis=0): [ 6  7  8  9 10]\n",
      "data.max(axis=1): [ 5 10]\n",
      "data.min(axis=0): [1 2 3 4 5]\n",
      "data.min(axis=1): [1 6]\n",
      "data.sum(axis=0): [ 7  9 11 13 15]\n",
      "data.sum(axis=1): [15 40]\n",
      "np.median(data): 5.5\n",
      "np.average(data): 5.5\n"
     ]
    }
   ],
   "source": [
    "data = np.array([[1, 2, 3, 4, 5],[6,7,8,9,10]])\n",
    "print('data: {}'.format(data))\n",
    "\n",
    "print('data.max(): {}'.format(data.max()))\n",
    "print('data.min(): {}'.format(data.min()))\n",
    "\n",
    "print('data.sum(): {}'.format(data.sum()))\n",
    "print('data.prod(): {}'.format(data.prod()))\n",
    "\n",
    "\n",
    "\n",
    "print('data.mean(): {}'.format(data.mean()))\n",
    "print('data.std(): {}'.format(data.std()))\n",
    "print('data.var(): {}'.format(data.var()))\n",
    "\n",
    "\n",
    "print('data.trace(): {}'.format(data.trace()))\n",
    "\n",
    "print('data.max(): {}'.format(data.max()))\n",
    "print('data.min(): {}'.format(data.min()))\n",
    "print('data.sum(): {}'.format(data.sum()))\n",
    "\n",
    "\n",
    "print('data.max(axis=0): {}'.format(data.max(axis=0)))\n",
    "print('data.max(axis=1): {}'.format(data.max(axis=1)))\n",
    "print('data.min(axis=0): {}'.format(data.min(axis=0)))\n",
    "print('data.min(axis=1): {}'.format(data.min(axis=1)))\n",
    "print('data.sum(axis=0): {}'.format(data.sum(axis=0)))\n",
    "print('data.sum(axis=1): {}'.format(data.sum(axis=1)))\n",
    "\n",
    "print('np.median(data): {}'.format(np.median(data)))\n",
    "print('np.average(data): {}'.format(np.average(data)))\n"
   ]
  },
  {
   "cell_type": "markdown",
   "metadata": {},
   "source": [
    "### Universal functions\n",
    "\n",
    "- add: Add arguments element-wise  \n",
    "- subtract: Subtract arguments, element-wise  \n",
    "- multiply: Multiply arguments element-wise  \n",
    "- divide: Returns a true division of the inputs, element-wise  \n",
    "- power: First array elements raised to powers from second array, element-wise  \n",
    "- exp: Calculate the exponential of all elements in the input array   \n",
    "- square: Return the element-wise square of the input  \n",
    "- sqrt: Return the non-negative square-root of an array, element-wise  \n",
    "- log: Natural logarithm, element-wise  \n",
    "- log2: Base-2 logarithm of x  \n",
    "- mod: Return element-wise remainder of division  \n",
    "- gcd: Returns the greatest common divisor of |x1| and |x2|  \n",
    "- lcm: Returns the lowest common multiple of |x1| and |x2|  "
   ]
  },
  {
   "cell_type": "code",
   "execution_count": 10,
   "metadata": {},
   "outputs": [
    {
     "name": "stdout",
     "output_type": "stream",
     "text": [
      "a: [1 2 3]\n",
      "b: [4 5 6]\n",
      "np.add(a,b): [5 7 9]\n",
      "np.subtract(a,b): [-3 -3 -3]\n",
      "np.multiply(a,b): [ 4 10 18]\n",
      "np.divide(a,b): [0.25 0.4  0.5 ]\n",
      "np.power(a,b): [  1  32 729]\n",
      "np.mod(a,b): [1 2 3]\n",
      "np.gcd(a,b): [1 1 3]\n",
      "np.lcm(a,b): [ 4 10  6]\n",
      "np.exp(a): [ 2.71828183  7.3890561  20.08553692]\n",
      "np.square(a): [1 4 9]\n",
      "np.sqrt(a): [1.         1.41421356 1.73205081]\n",
      "np.log(a): [0.         0.69314718 1.09861229]\n",
      "np.log2(a): [0.        1.        1.5849625]\n"
     ]
    }
   ],
   "source": [
    "a = np.arange(1,4)\n",
    "b = np.arange(4,7)\n",
    "\n",
    "print('a: {}'.format(a))\n",
    "print('b: {}'.format(b))\n",
    "\n",
    "\n",
    "print('np.add(a,b): {}'.format(np.add(a,b)))\n",
    "print('np.subtract(a,b): {}'.format(np.subtract(a,b)))\n",
    "print('np.multiply(a,b): {}'.format(np.multiply(a,b)))\n",
    "print('np.divide(a,b): {}'.format(np.divide(a,b)))\n",
    "print('np.power(a,b): {}'.format(np.power(a,b)))\n",
    "print('np.mod(a,b): {}'.format(np.mod(a,b)))\n",
    "\n",
    "print('np.gcd(a,b): {}'.format(np.gcd(a,b)))\n",
    "print('np.lcm(a,b): {}'.format(np.lcm(a,b)))\n",
    "\n",
    "print('np.exp(a): {}'.format(np.exp(a)))\n",
    "print('np.square(a): {}'.format(np.square(a)))\n",
    "print('np.sqrt(a): {}'.format(np.sqrt(a)))\n",
    "print('np.log(a): {}'.format(np.log(a)))\n",
    "print('np.log2(a): {}'.format(np.log2(a)))\n"
   ]
  },
  {
   "cell_type": "markdown",
   "metadata": {},
   "source": [
    "### Trigonometric Functions\n",
    "\n",
    "- sin: Trigonometric sine, element-wise  \n",
    "- cos: Cosine element-wise  \n",
    "- tan: Compute tangent element-wise  \n",
    "- sinh: Hyperbolic sine, element-wise  \n",
    "- cosh: Hyperbolic cosine, element-wise  \n",
    "- tanh: Compute hyperbolic tangent element-wise  \n"
   ]
  },
  {
   "cell_type": "code",
   "execution_count": 11,
   "metadata": {},
   "outputs": [
    {
     "name": "stdout",
     "output_type": "stream",
     "text": [
      "np.sin(np.pi/2.): 1.0\n",
      "np.cos(np.pi/2.): 6.123233995736766e-17\n",
      "np.tan(np.pi/2.): 1.633123935319537e+16\n",
      "np.sinh(np.pi/2.): 2.3012989023072947\n",
      "np.cosh(np.pi/2.): 2.5091784786580567\n",
      "np.tanh(np.pi/2.): 0.9171523356672744\n"
     ]
    }
   ],
   "source": [
    "print('np.sin(np.pi/2.): {}'.format(np.sin(np.pi/2.)))\n",
    "print('np.cos(np.pi/2.): {}'.format(np.cos(np.pi/2.)))\n",
    "print('np.tan(np.pi/2.): {}'.format(np.tan(np.pi/2.)))\n",
    "print('np.sinh(np.pi/2.): {}'.format(np.sinh(np.pi/2.)))\n",
    "print('np.cosh(np.pi/2.): {}'.format(np.cosh(np.pi/2.)))\n",
    "print('np.tanh(np.pi/2.): {}'.format(np.tanh(np.pi/2.)))"
   ]
  },
  {
   "cell_type": "markdown",
   "metadata": {},
   "source": [
    "### Comparison Functions\n",
    "\n",
    "- greater: Return the truth value of (x1 > x2) element-wise    \n",
    "- greater_equal: Return the truth value of (x1 >= x2) element-wise  \n",
    "- less: Return the truth value of (x1 < x2) element-wise  \n",
    "- less_equal: Return the truth value of (x1 =< x2) element-wise  \n",
    "- not_equal: Return (x1 != x2) element-wise  \n",
    "- equal: Return (x1 == x2) element-wise  "
   ]
  },
  {
   "cell_type": "code",
   "execution_count": 12,
   "metadata": {},
   "outputs": [
    {
     "name": "stdout",
     "output_type": "stream",
     "text": [
      "np.greater(a,b): [False False False]\n",
      "np.greater_equal(a,b): [False False False]\n",
      "np.less(a,b): [ True  True  True]\n",
      "np.less_equal(a,b): [ True  True  True]\n",
      "np.not_equal(a,b): [ True  True  True]\n",
      "np.equal(a,b): [False False False]\n"
     ]
    }
   ],
   "source": [
    "a = np.arange(1,4)\n",
    "b = np.arange(4,7)\n",
    "\n",
    "print('np.greater(a,b): {}'.format(np.greater(a,b)))\n",
    "print('np.greater_equal(a,b): {}'.format(np.greater_equal(a,b)))\n",
    "print('np.less(a,b): {}'.format(np.less(a,b)))\n",
    "print('np.less_equal(a,b): {}'.format(np.less_equal(a,b)))\n",
    "print('np.not_equal(a,b): {}'.format(np.not_equal(a,b)))\n",
    "print('np.equal(a,b): {}'.format(np.equal(a,b)))"
   ]
  },
  {
   "cell_type": "markdown",
   "metadata": {},
   "source": [
    "### Broadcasting\n",
    "\n",
    "In numpy the dimension requirements for elementwise operations are relaxed via a mechanism called broadcasting. Two matrices are compatible if the corresponding dimensions in each matrix (rows vs rows, columns vs columns) meet the following requirements:\n",
    "\n",
    "- The dimensions are equal, or\n",
    "- One dimension is of size 1"
   ]
  },
  {
   "cell_type": "code",
   "execution_count": 13,
   "metadata": {},
   "outputs": [
    {
     "name": "stdout",
     "output_type": "stream",
     "text": [
      "data: [[ 1  2  3  4  5]\n",
      " [ 6  7  8  9 10]]\n",
      "ones: [1. 1. 1. 1. 1.]\n",
      "data + ones: [[ 2.  3.  4.  5.  6.]\n",
      " [ 7.  8.  9. 10. 11.]]\n"
     ]
    }
   ],
   "source": [
    "data = np.array([[1, 2, 3, 4, 5],[6,7,8,9,10]])\n",
    "ones = np.ones(5)\n",
    "\n",
    "print('data: {}'.format(data))\n",
    "print('ones: {}'.format(ones))\n",
    "\n",
    "print('data + ones: {}'.format(data + ones))"
   ]
  },
  {
   "cell_type": "markdown",
   "metadata": {},
   "source": [
    "### Dot product\n",
    "\n",
    "Dot product of two arrays. Specifically,\n",
    "\n",
    "If both a and b are 1-D arrays, it is inner product of vectors (without complex conjugation).\n",
    "\n",
    "If both a and b are 2-D arrays, it is matrix multiplication, but using matmul or a @ b is preferred.\n",
    "\n",
    "If either a or b is 0-D (scalar), it is equivalent to multiply and using numpy.multiply(a, b) or a * b is preferred.\n",
    "\n",
    "If a is an N-D array and b is a 1-D array, it is a sum product over the last axis of a and b.\n",
    "\n",
    "If a is an N-D array and b is an M-D array (where M>=2), it is a sum product over the last axis of a and the second-to-last axis of b:\n",
    "\n",
    "dot(a, b)[i,j,k,m] = sum(a[i,j,:] * b[k,:,m])"
   ]
  },
  {
   "cell_type": "code",
   "execution_count": 14,
   "metadata": {},
   "outputs": [
    {
     "name": "stdout",
     "output_type": "stream",
     "text": [
      "np.dot(3,4): 12\n",
      "a.dot(b): 14\n",
      "b.dot(c): [22 28]\n",
      "c.dot(d): [[ 9 12 15]\n",
      " [19 26 33]\n",
      " [29 40 51]]\n",
      "e.dot(f): [[ 7 10]\n",
      " [15 22]]\n",
      "e @ f: [[ 7 10]\n",
      " [15 22]]\n",
      "np.dot(g,h): [[2 4]\n",
      " [6 8]]\n",
      "g * h: [[2 4]\n",
      " [6 8]]\n",
      "i.dot(j): [[ 7 10]\n",
      " [15 22]\n",
      " [23 34]]\n",
      "np.dot(k, l)[2,3,2,1,2,2]: 499128\n",
      "sum(k[2,3,2,:] * l[1,2,:,2]): 499128\n",
      "m: [[1 7]\n",
      " [2 4]]\n",
      "n * b: [[3 3]\n",
      " [5 2]]\n",
      "m.dot(n): [[38 17]\n",
      " [26 14]]\n",
      "m @ n: [[38 17]\n",
      " [26 14]]\n",
      "m * n: [[ 3 21]\n",
      " [10  8]]\n"
     ]
    }
   ],
   "source": [
    "print('np.dot(3,4): {}'.format(np.dot(3,4)))\n",
    "\n",
    "a = np.array([1,2,3])\n",
    "b = np.array([1,2,3])\n",
    "\n",
    "c = np.array([[1,2],[3,4],[5,6]])\n",
    "d = np.array([[1,2,3],[4,5,6]])\n",
    "\n",
    "print('a.dot(b): {}'.format(a.dot(b)))\n",
    "print('b.dot(c): {}'.format(b.dot(c)))\n",
    "print('c.dot(d): {}'.format(c.dot(d)))\n",
    "\n",
    "e = np.array([[1,2],[3,4]])\n",
    "f = np.array([[1,2],[3,4]])\n",
    "print('e.dot(f): {}'.format(e.dot(f)))\n",
    "print('e @ f: {}'.format(e@f))\n",
    "\n",
    "g = np.array([[1,2],[3,4]])\n",
    "h = 2\n",
    "print('np.dot(g,h): {}'.format(np.dot(g,h)))\n",
    "print('g * h: {}'.format(g*h))\n",
    "\n",
    "\n",
    "i = np.array([[1,2],[3,4],[5,6]])\n",
    "j = np.array([[1,2],[3,4]])\n",
    "print('i.dot(j): {}'.format(i.dot(j)))\n",
    "\n",
    "k = np.arange(3*4*5*6).reshape((3,4,5,6))\n",
    "l = np.arange(3*4*5*6)[::-1].reshape((5,4,6,3))\n",
    "print('np.dot(k, l)[2,3,2,1,2,2]: {}'.format(np.dot(k, l)[2,3,2,1,2,2]))\n",
    "print('sum(k[2,3,2,:] * l[1,2,:,2]): {}'.format(sum(k[2,3,2,:] * l[1,2,:,2])))\n",
    "\n",
    "m = np.array([[1,7],[2,4]])\n",
    "n = np.array([[3,3],[5,2]])\n",
    "\n",
    "print('m: {}'.format(m))\n",
    "print('n * b: {}'.format(n))\n",
    "\n",
    "print('m.dot(n): {}'.format(m.dot(n)))\n",
    "print('m @ n: {}'.format(m@n))\n",
    "print('m * n: {}'.format(m * n))\n"
   ]
  },
  {
   "cell_type": "markdown",
   "metadata": {},
   "source": [
    "### Inner\n",
    "\n",
    "Ordinary inner product of vectors for 1-D arrays (without complex conjugation), in higher dimensions a sum product over the last axes."
   ]
  },
  {
   "cell_type": "code",
   "execution_count": 15,
   "metadata": {},
   "outputs": [
    {
     "name": "stdout",
     "output_type": "stream",
     "text": [
      "np.inner(a, b): 32\n",
      "sum(a[:] * b[:]): 32\n",
      "np.inner(c, d): [[14 32]\n",
      " [32 77]]\n",
      "sum(c[:] * d[:]): [17 29 45]\n"
     ]
    }
   ],
   "source": [
    "a = np.array([1,2,3])\n",
    "b = np.array([4,5,6])\n",
    "print('np.inner(a, b): {}'.format(np.inner(a, b)))\n",
    "print('sum(a[:] * b[:]): {}'.format(sum(a[:] * b[:])))\n",
    "\n",
    "c = np.array([[1,2,3],[4,5,6]])\n",
    "d = np.array([[1,2,3],[4,5,6]])\n",
    "print('np.inner(c, d): {}'.format(np.inner(c, d)))\n",
    "print('sum(c[:] * d[:]): {}'.format(sum(c[:] * d[:])))\n"
   ]
  },
  {
   "cell_type": "markdown",
   "metadata": {},
   "source": [
    "### Other Operations \n",
    "\n",
    "- copy: Return a copy of the array  \n",
    "- fill: Fill the array with a scalar value"
   ]
  },
  {
   "cell_type": "code",
   "execution_count": 16,
   "metadata": {},
   "outputs": [
    {
     "name": "stdout",
     "output_type": "stream",
     "text": [
      "x (initial): [[1 2 3]\n",
      " [4 5 6]]\n",
      "y (after copy): [[1 2 3]\n",
      " [4 5 6]]\n",
      "x (after fill): [[0 0 0]\n",
      " [0 0 0]]\n",
      "y (after fill): [[1 2 3]\n",
      " [4 5 6]]\n"
     ]
    }
   ],
   "source": [
    "x = np.array([[1,2,3],[4,5,6]])\n",
    "print('x (initial): {}'.format(x))\n",
    "y = x.copy()\n",
    "print('y (after copy): {}'.format(y))\n",
    "x.fill(0)\n",
    "print('x (after fill): {}'.format(x))\n",
    "print('y (after fill): {}'.format(y))\n"
   ]
  },
  {
   "cell_type": "markdown",
   "metadata": {},
   "source": [
    "### Formula evaluations"
   ]
  },
  {
   "cell_type": "code",
   "execution_count": 17,
   "metadata": {},
   "outputs": [
    {
     "name": "stdout",
     "output_type": "stream",
     "text": [
      "error: 1.6666666666666665\n"
     ]
    }
   ],
   "source": [
    "# formula: mean-square-error = (1/n) sigma (i=1 to n)square of ((prediction(i) - y(i)))\n",
    "predictions = np.array([1,1,1])\n",
    "labels = np.array([1,2,3])\n",
    "n=3\n",
    "\n",
    "error=(1/n) * np.sum(np.square(predictions-labels))\n",
    "\n",
    "print('error: {}'.format(error))\n"
   ]
  }
 ],
 "metadata": {
  "kernelspec": {
   "display_name": "Python 3",
   "language": "python",
   "name": "python3"
  },
  "language_info": {
   "codemirror_mode": {
    "name": "ipython",
    "version": 3
   },
   "file_extension": ".py",
   "mimetype": "text/x-python",
   "name": "python",
   "nbconvert_exporter": "python",
   "pygments_lexer": "ipython3",
   "version": "3.6.8"
  }
 },
 "nbformat": 4,
 "nbformat_minor": 1
}
