{
 "cells": [
  {
   "cell_type": "markdown",
   "metadata": {},
   "source": [
    "# Introduction to NumPy - Part 01\n",
    "\n",
    "Purpose of this notebook is to provide an introduction to NumPy. \n",
    "This is part 1 of the series."
   ]
  },
  {
   "cell_type": "markdown",
   "metadata": {},
   "source": [
    "Before we explore more on NumPy, lets import NumPy and print the version being used"
   ]
  },
  {
   "cell_type": "code",
   "execution_count": 1,
   "metadata": {
    "_cell_guid": "b1076dfc-b9ad-4769-8c92-a6c4dae69d19",
    "_uuid": "8f2839f25d086af736a60e9eeb907d3b93b6e0e5"
   },
   "outputs": [
    {
     "name": "stdout",
     "output_type": "stream",
     "text": [
      "numpy version: 1.16.2\n"
     ]
    }
   ],
   "source": [
    "import numpy as np\n",
    "print('numpy version: {}'.format(np.__version__))"
   ]
  },
  {
   "cell_type": "markdown",
   "metadata": {},
   "source": [
    "### Array initialization"
   ]
  },
  {
   "cell_type": "code",
   "execution_count": 2,
   "metadata": {},
   "outputs": [
    {
     "name": "stdout",
     "output_type": "stream",
     "text": [
      "data_1d: [1 2 3 4 5]\n",
      "data_2d: [[ 1.+0.j  2.+0.j  3.+0.j  4.+0.j  5.+0.j]\n",
      " [ 6.+0.j  7.+0.j  8.+0.j  9.+0.j 10.+0.j]]\n",
      "ones: [1. 1. 1. 1. 1.]\n",
      "ones_like: [[1.+0.j 1.+0.j 1.+0.j 1.+0.j 1.+0.j]\n",
      " [1.+0.j 1.+0.j 1.+0.j 1.+0.j 1.+0.j]]\n",
      "zeros: [0. 0. 0. 0. 0.]\n",
      "zeros_like: [[0.+0.j 0.+0.j 0.+0.j 0.+0.j 0.+0.j]\n",
      " [0.+0.j 0.+0.j 0.+0.j 0.+0.j 0.+0.j]]\n",
      "full: [[3 3 3 3 3]\n",
      " [3 3 3 3 3]\n",
      " [3 3 3 3 3]\n",
      " [3 3 3 3 3]\n",
      " [3 3 3 3 3]]\n",
      "full_like: [[3.+0.j 3.+0.j 3.+0.j 3.+0.j 3.+0.j]\n",
      " [3.+0.j 3.+0.j 3.+0.j 3.+0.j 3.+0.j]]\n",
      "random: [0.59747663 0.81170168 0.01882931 0.17011757 0.86540345]\n"
     ]
    }
   ],
   "source": [
    "# initialize a numpy array\n",
    "data_1d = np.array([1, 2, 3, 4, 5])\n",
    "data_2d = np.array([[1, 2, 3, 4, 5],[6,7,8,9,10]], dtype='complex')\n",
    "\n",
    "# initialize an array with 5 ones\n",
    "ones = np.ones(5)\n",
    "ones_like = np.ones_like(data_2d)\n",
    "\n",
    "# initialize an array with 5 zeros\n",
    "zeros = np.zeros(5)\n",
    "zeros_like = np.zeros_like(data_2d)\n",
    "\n",
    "full = np.full((5,5),3)\n",
    "full_like = np.full_like(data_2d,3)\n",
    "\n",
    "# initialize an array with 5 random numbers\n",
    "random = np.random.random(5)\n",
    "\n",
    "\n",
    "# print the arrays\n",
    "print('data_1d: {}'.format(data_1d))\n",
    "print('data_2d: {}'.format(data_2d))\n",
    "print('ones: {}'.format(ones))\n",
    "print('ones_like: {}'.format(ones_like))\n",
    "print('zeros: {}'.format(zeros))\n",
    "print('zeros_like: {}'.format(zeros_like))\n",
    "print('full: {}'.format(full))\n",
    "print('full_like: {}'.format(full_like))\n",
    "print('random: {}'.format(random))"
   ]
  },
  {
   "cell_type": "markdown",
   "metadata": {},
   "source": [
    "### Array properties"
   ]
  },
  {
   "cell_type": "code",
   "execution_count": 3,
   "metadata": {},
   "outputs": [
    {
     "name": "stdout",
     "output_type": "stream",
     "text": [
      "ones.shape: (10,)\n",
      "ones.ndim: 1\n",
      "ones.size: 10\n",
      "ones.dtype: float64\n",
      "ones.itemsize: 8\n",
      "ones.data: <memory at 0x7fca8c1ce588>\n"
     ]
    }
   ],
   "source": [
    "# initialize an array with 5 ones\n",
    "ones = np.ones(10)\n",
    "\n",
    "print('ones.shape: {}'.format(ones.shape))\n",
    "print('ones.ndim: {}'.format(ones.ndim))\n",
    "print('ones.size: {}'.format(ones.size))\n",
    "print('ones.dtype: {}'.format(ones.dtype))\n",
    "print('ones.itemsize: {}'.format(ones.itemsize))\n",
    "print('ones.data: {}'.format(ones.data))\n"
   ]
  },
  {
   "cell_type": "markdown",
   "metadata": {},
   "source": [
    "### arange, reshape"
   ]
  },
  {
   "cell_type": "code",
   "execution_count": 4,
   "metadata": {},
   "outputs": [
    {
     "name": "stdout",
     "output_type": "stream",
     "text": [
      "a: [ 0  1  2  3  4  5  6  7  8  9 10 11 12 13 14]\n",
      "b: [10 15 20 25 30 35 40 45]\n",
      "c: [0.  0.2 0.4 0.6 0.8 1.  1.2 1.4 1.6 1.8 2.  2.2 2.4 2.6 2.8 3.  3.2 3.4\n",
      " 3.6 3.8 4.  4.2 4.4 4.6 4.8]\n",
      "d: [[ 0  1  2  3  4]\n",
      " [ 5  6  7  8  9]\n",
      " [10 11 12 13 14]]\n",
      "e: [[[ 0  1  2  3]\n",
      "  [ 4  5  6  7]\n",
      "  [ 8  9 10 11]]\n",
      "\n",
      " [[12 13 14 15]\n",
      "  [16 17 18 19]\n",
      "  [20 21 22 23]]]\n",
      "a.shape: (15,)\n",
      "a.ndim: 1\n",
      "a.size: 15\n",
      "a.dtype: int64\n",
      "a.itemsize: 8\n",
      "a.data: <memory at 0x7fca8c1ce648>\n",
      "type(a): <class 'numpy.ndarray'>\n",
      "b.shape: (8,)\n",
      "b.ndim: 1\n",
      "b.size: 8\n",
      "b.dtype: int64\n",
      "b.itemsize: 8\n",
      "b.data: <memory at 0x7fca8c1ce648>\n",
      "type(b): <class 'numpy.ndarray'>\n"
     ]
    }
   ],
   "source": [
    "a = np.arange(15)\n",
    "b = np.arange(10,50,5)\n",
    "c = np.arange(0,5,.2)\n",
    "\n",
    "d = np.arange(15).reshape(3, 5)\n",
    "e = np.arange(24).reshape(2,3,4)\n",
    "\n",
    "print('a: {}'.format(a))\n",
    "print('b: {}'.format(b))\n",
    "print('c: {}'.format(c))\n",
    "print('d: {}'.format(d))\n",
    "print('e: {}'.format(e))\n",
    "\n",
    "\n",
    "print('a.shape: {}'.format(a.shape))\n",
    "print('a.ndim: {}'.format(a.ndim))\n",
    "print('a.size: {}'.format(a.size))\n",
    "print('a.dtype: {}'.format(a.dtype))\n",
    "print('a.itemsize: {}'.format(a.itemsize))\n",
    "print('a.data: {}'.format(a.data))\n",
    "print('type(a): {}'.format(type(a)))\n",
    "\n",
    "print('b.shape: {}'.format(b.shape))\n",
    "print('b.ndim: {}'.format(b.ndim))\n",
    "print('b.size: {}'.format(b.size))\n",
    "print('b.dtype: {}'.format(b.dtype))\n",
    "print('b.itemsize: {}'.format(b.itemsize))\n",
    "print('b.data: {}'.format(b.data))\n",
    "print('type(b): {}'.format(type(b)))"
   ]
  },
  {
   "cell_type": "markdown",
   "metadata": {},
   "source": [
    " ### Basic Array operations"
   ]
  },
  {
   "cell_type": "code",
   "execution_count": 5,
   "metadata": {},
   "outputs": [
    {
     "name": "stdout",
     "output_type": "stream",
     "text": [
      "data: [1 2 3 4 5]\n",
      "ones: [1. 1. 1. 1. 1.]\n",
      "zeros: [0. 0. 0. 0. 0.]\n",
      "random: [0.21331029 0.4089961  0.00386302 0.84534162 0.4826643 ]\n",
      "data + ones: [2. 3. 4. 5. 6.]\n",
      "data - ones: [0. 1. 2. 3. 4.]\n",
      "data * ones: [1. 2. 3. 4. 5.]\n",
      "data / ones: [1. 2. 3. 4. 5.]\n",
      "data * 1.5: [1.5 3.  4.5 6.  7.5]\n",
      "data ** 2: [ 1  4  9 16 25]\n",
      "10 * np.sin(a): [ 8.41470985  9.09297427  1.41120008 -7.56802495 -9.58924275]\n",
      "data < 35: [ True  True  True  True  True]\n"
     ]
    }
   ],
   "source": [
    "data = np.array([1, 2, 3, 4, 5])\n",
    "ones = np.ones(5)\n",
    "zeros = np.zeros(5)\n",
    "random = np.random.random(5)\n",
    "\n",
    "print('data: {}'.format(data))\n",
    "print('ones: {}'.format(ones))\n",
    "print('zeros: {}'.format(zeros))\n",
    "print('random: {}'.format(random))\n",
    "\n",
    "\n",
    "\n",
    "print('data + ones: {}'.format(data + ones))\n",
    "print('data - ones: {}'.format(data - ones))\n",
    "print('data * ones: {}'.format(data * ones))\n",
    "print('data / ones: {}'.format(data / ones))\n",
    "print('data * 1.5: {}'.format(data * 1.5))\n",
    "print('data ** 2: {}'.format(data ** 2))\n",
    "print('10 * np.sin(a): {}'.format(10 * np.sin(data)))\n",
    "print('data < 35: {}'.format(data < 35))\n"
   ]
  },
  {
   "cell_type": "markdown",
   "metadata": {},
   "source": [
    "### Basic indexing operations"
   ]
  },
  {
   "cell_type": "code",
   "execution_count": 6,
   "metadata": {},
   "outputs": [
    {
     "name": "stdout",
     "output_type": "stream",
     "text": [
      "data: [[ 1  2  3  4  5]\n",
      " [ 6  7  8  9 10]]\n",
      "data[0]: [1 2 3 4 5]\n",
      "data[1]: [ 6  7  8  9 10]\n",
      "data[0:2]: [[ 1  2  3  4  5]\n",
      " [ 6  7  8  9 10]]\n",
      "data[1:]: [[ 6  7  8  9 10]]\n"
     ]
    }
   ],
   "source": [
    "data = np.array([[1, 2, 3, 4, 5],[6,7,8,9,10]])\n",
    "print('data: {}'.format(data))\n",
    "print('data[0]: {}'.format(data[0]))\n",
    "print('data[1]: {}'.format(data[1]))\n",
    "print('data[0:2]: {}'.format(data[0:2]))\n",
    "print('data[1:]: {}'.format(data[1:]))\n"
   ]
  },
  {
   "cell_type": "markdown",
   "metadata": {},
   "source": [
    "### Aggregation operations"
   ]
  },
  {
   "cell_type": "code",
   "execution_count": 7,
   "metadata": {},
   "outputs": [
    {
     "name": "stdout",
     "output_type": "stream",
     "text": [
      "data.max(): 10\n",
      "data.min(): 1\n",
      "data.sum(): 55\n"
     ]
    }
   ],
   "source": [
    "print('data.max(): {}'.format(data.max()))\n",
    "print('data.min(): {}'.format(data.min()))\n",
    "print('data.sum(): {}'.format(data.sum()))"
   ]
  },
  {
   "cell_type": "code",
   "execution_count": 8,
   "metadata": {},
   "outputs": [
    {
     "name": "stdout",
     "output_type": "stream",
     "text": [
      "data_2d:  [[ 1  2  3  4  5]\n",
      " [ 6  7  8  9 10]]\n",
      "ones_2d:  [[1. 1. 1. 1. 1.]\n",
      " [1. 1. 1. 1. 1.]]\n",
      "zeros_2d:  [[0. 0. 0. 0. 0.]\n",
      " [0. 0. 0. 0. 0.]]\n",
      "random_2d:  [[0.8478188  0.60507203 0.85682856 0.33776796 0.32651003]\n",
      " [0.60965244 0.26835289 0.29688594 0.76244703 0.10070204]]\n"
     ]
    }
   ],
   "source": [
    "data_2d = np.array([[1, 2, 3, 4, 5],[6,7,8,9,10]])\n",
    "ones_2d = np.ones((2,5))\n",
    "zeros_2d = np.zeros((2,5))\n",
    "random_2d = np.random.random((2,5))\n",
    "\n",
    "# print the arrays\n",
    "print('data_2d: {}'.format(data_2d))\n",
    "print('ones_2d: {}'.format(ones_2d))\n",
    "print('zeros_2d: {}'.format(zeros_2d))\n",
    "print('random_2d: {}'.format(random_2d))\n"
   ]
  },
  {
   "cell_type": "markdown",
   "metadata": {},
   "source": [
    "### Matrix arithmetic/operation"
   ]
  },
  {
   "cell_type": "code",
   "execution_count": 9,
   "metadata": {},
   "outputs": [
    {
     "name": "stdout",
     "output_type": "stream",
     "text": [
      "data: [[ 1  2  3  4  5]\n",
      " [ 6  7  8  9 10]]\n",
      "ones: [[1. 1. 1. 1. 1.]\n",
      " [1. 1. 1. 1. 1.]]\n",
      "sqare: [[1 2]\n",
      " [3 4]]\n",
      "data + ones: [[ 2.  3.  4.  5.  6.]\n",
      " [ 7.  8.  9. 10. 11.]]\n",
      "data - ones: [[0. 1. 2. 3. 4.]\n",
      " [5. 6. 7. 8. 9.]]\n",
      "data * ones (elementwise): [[ 1.  2.  3.  4.  5.]\n",
      " [ 6.  7.  8.  9. 10.]]\n",
      "data @ np.ones((5,2)) (matrix product): [[15. 15.]\n",
      " [40. 40.]]\n",
      "data.dot(np.ones((5,2)))(dot product): [[15. 15.]\n",
      " [40. 40.]]\n",
      "data / ones: [[ 1.  2.  3.  4.  5.]\n",
      " [ 6.  7.  8.  9. 10.]]\n",
      "data + 1.5: [[ 2.5  3.5  4.5  5.5  6.5]\n",
      " [ 7.5  8.5  9.5 10.5 11.5]]\n",
      "data.transpose(): [[ 1  6]\n",
      " [ 2  7]\n",
      " [ 3  8]\n",
      " [ 4  9]\n",
      " [ 5 10]]\n",
      "np.linalg.inv(sqare): [[-2.   1. ]\n",
      " [ 1.5 -0.5]]\n",
      "np.eye(4): [[1. 0. 0. 0.]\n",
      " [0. 1. 0. 0.]\n",
      " [0. 0. 1. 0.]\n",
      " [0. 0. 0. 1.]]\n"
     ]
    }
   ],
   "source": [
    "data = np.array([[1, 2, 3, 4, 5],[6,7,8,9,10]])\n",
    "ones = np.ones((2,5))\n",
    "sqare = np.array([[1,2],[3,4]])\n",
    "\n",
    "print('data: {}'.format(data))\n",
    "print('ones: {}'.format(ones))\n",
    "print('sqare: {}'.format(sqare))\n",
    "\n",
    "print('data + ones: {}'.format(data + ones))\n",
    "print('data - ones: {}'.format(data - ones))\n",
    "print('data * ones (elementwise): {}'.format(data * ones))\n",
    "print('data @ np.ones((5,2)) (matrix product): {}'.format(data @ np.ones((5,2))))\n",
    "print('data.dot(np.ones((5,2)))(dot product): {}'.format(data.dot(np.ones((5,2)))))\n",
    "print('data / ones: {}'.format(data / ones))\n",
    "print('data + 1.5: {}'.format(data + 1.5))\n",
    "print('data.transpose(): {}'.format(data.transpose())) # or data.T\n",
    "print('np.linalg.inv(sqare): {}'.format(np.linalg.inv(sqare)))\n",
    "print('np.eye(4): {}'.format(np.eye(4))) # same as np.identity(4)\n"
   ]
  },
  {
   "cell_type": "markdown",
   "metadata": {},
   "source": [
    "### Matrix operations: broadcasting"
   ]
  },
  {
   "cell_type": "code",
   "execution_count": 10,
   "metadata": {},
   "outputs": [
    {
     "name": "stdout",
     "output_type": "stream",
     "text": [
      "data: [[ 1  2  3  4  5]\n",
      " [ 6  7  8  9 10]]\n",
      "ones: [1. 1. 1. 1. 1.]\n",
      "data + np.ones(5): [[ 2.  3.  4.  5.  6.]\n",
      " [ 7.  8.  9. 10. 11.]]\n"
     ]
    }
   ],
   "source": [
    "data = np.array([[1, 2, 3, 4, 5],[6,7,8,9,10]])\n",
    "ones = np.ones(5)\n",
    "\n",
    "print('data: {}'.format(data))\n",
    "print('ones: {}'.format(ones))\n",
    "\n",
    "\n",
    "print('data + np.ones(5): {}'.format(data + np.ones(5)))"
   ]
  },
  {
   "cell_type": "markdown",
   "metadata": {},
   "source": [
    "### Dot product"
   ]
  },
  {
   "cell_type": "code",
   "execution_count": 44,
   "metadata": {},
   "outputs": [
    {
     "name": "stdout",
     "output_type": "stream",
     "text": [
      "np.dot(3,4): 12\n",
      "a.dot(b): 14\n",
      "b.dot(c): [22 28]\n",
      "c.dot(d): [[ 9 12 15]\n",
      " [19 26 33]\n",
      " [29 40 51]]\n",
      "e.dot(f): [[ 7 10]\n",
      " [15 22]]\n",
      "e @ f: [[ 7 10]\n",
      " [15 22]]\n",
      "np.dot(g,h): [[2 4]\n",
      " [6 8]]\n",
      "g * h: [[2 4]\n",
      " [6 8]]\n",
      "i.dot(j): [[ 7 10]\n",
      " [15 22]\n",
      " [23 34]]\n",
      "np.dot(k, l)[2,3,2,1,2,2]: 499128\n",
      "sum(k[2,3,2,:] * l[1,2,:,2]): 499128\n"
     ]
    }
   ],
   "source": [
    "a = np.array([1,2,3])\n",
    "b = np.array([1,2,3])\n",
    "\n",
    "c = np.array([[1,2],[3,4],[5,6]])\n",
    "d = np.array([[1,2,3],[4,5,6]])\n",
    "\n",
    "e = np.array([[1,2],[3,4]])\n",
    "f = np.array([[1,2],[3,4]])\n",
    "\n",
    "g = np.array([[1,2],[3,4]])\n",
    "h = 2\n",
    "\n",
    "i = np.array([[1,2],[3,4],[5,6]])\n",
    "j = np.array([[1,2],[3,4]])\n",
    "\n",
    "k = np.arange(3*4*5*6).reshape((3,4,5,6))\n",
    "l = np.arange(3*4*5*6)[::-1].reshape((5,4,6,3))\n",
    "\n",
    "print('np.dot(3,4): {}'.format(np.dot(3,4)))\n",
    "\n",
    "print('a.dot(b): {}'.format(a.dot(b)))\n",
    "print('b.dot(c): {}'.format(b.dot(c)))\n",
    "print('c.dot(d): {}'.format(c.dot(d)))\n",
    "\n",
    "print('e.dot(f): {}'.format(e.dot(f)))\n",
    "print('e @ f: {}'.format(e@f))\n",
    "\n",
    "print('np.dot(g,h): {}'.format(np.dot(g,h)))\n",
    "print('g * h: {}'.format(g*h))\n",
    "\n",
    "print('i.dot(j): {}'.format(i.dot(j)))\n",
    "\n",
    "print('np.dot(k, l)[2,3,2,1,2,2]: {}'.format(np.dot(k, l)[2,3,2,1,2,2]))\n",
    "print('sum(k[2,3,2,:] * l[1,2,:,2]): {}'.format(sum(k[2,3,2,:] * l[1,2,:,2])))\n",
    "\n",
    "\n",
    "\n"
   ]
  },
  {
   "cell_type": "markdown",
   "metadata": {},
   "source": [
    "### Matrix indexing"
   ]
  },
  {
   "cell_type": "code",
   "execution_count": 21,
   "metadata": {},
   "outputs": [
    {
     "name": "stdout",
     "output_type": "stream",
     "text": [
      "data: [[1 2]\n",
      " [3 4]\n",
      " [5 6]]\n",
      "data[0,1]: 2\n",
      "data[1:3]: [[3 4]\n",
      " [5 6]]\n",
      "data[0:2,0]: [1 3]\n"
     ]
    }
   ],
   "source": [
    "data = np.array([[1,2],[3,4],[5,6]])\n",
    "\n",
    "print('data: {}'.format(data))\n",
    "print('data[0,1]: {}'.format(data[0,1]))\n",
    "print('data[1:3]: {}'.format(data[1:3]))\n",
    "print('data[0:2,0]: {}'.format(data[0:2,0]))\n",
    "\n"
   ]
  },
  {
   "cell_type": "markdown",
   "metadata": {},
   "source": [
    "### Matrix aggregation"
   ]
  },
  {
   "cell_type": "code",
   "execution_count": 22,
   "metadata": {},
   "outputs": [
    {
     "name": "stdout",
     "output_type": "stream",
     "text": [
      "data.max(): 6\n",
      "data.min(): 1\n",
      "data.sum(): 21\n",
      "data.max(axis=0): [5 6]\n",
      "data.max(axis=1): [2 4 6]\n",
      "data.min(axis=0): [1 2]\n",
      "data.min(axis=1): [1 3 5]\n",
      "data.sum(axis=0): [ 9 12]\n",
      "data.sum(axis=1): [ 3  7 11]\n"
     ]
    }
   ],
   "source": [
    "print('data.max(): {}'.format(data.max()))\n",
    "print('data.min(): {}'.format(data.min()))\n",
    "print('data.sum(): {}'.format(data.sum()))\n",
    "\n",
    "\n",
    "print('data.max(axis=0): {}'.format(data.max(axis=0)))\n",
    "print('data.max(axis=1): {}'.format(data.max(axis=1)))\n",
    "print('data.min(axis=0): {}'.format(data.min(axis=0)))\n",
    "print('data.min(axis=1): {}'.format(data.min(axis=1)))\n",
    "print('data.sum(axis=0): {}'.format(data.sum(axis=0)))\n",
    "print('data.sum(axis=1): {}'.format(data.sum(axis=1)))"
   ]
  },
  {
   "cell_type": "markdown",
   "metadata": {},
   "source": [
    "### Matrix : Transposing and reshaping"
   ]
  },
  {
   "cell_type": "code",
   "execution_count": 23,
   "metadata": {},
   "outputs": [
    {
     "name": "stdout",
     "output_type": "stream",
     "text": [
      "data.reshape(2,3): [[1 2 3]\n",
      " [4 5 6]]\n",
      "data.reshape(3,2): [[1 2]\n",
      " [3 4]\n",
      " [5 6]]\n"
     ]
    }
   ],
   "source": [
    "data = np.array([1,2,3,4,5,6])\n",
    "\n",
    "print('data.reshape(2,3): {}'.format(data.reshape(2,3)))\n",
    "print('data.reshape(3,2): {}'.format(data.reshape(3,2)))"
   ]
  },
  {
   "cell_type": "markdown",
   "metadata": {},
   "source": [
    "### More dimensions"
   ]
  },
  {
   "cell_type": "code",
   "execution_count": 17,
   "metadata": {},
   "outputs": [
    {
     "name": "stdout",
     "output_type": "stream",
     "text": [
      "ones: [[[1. 1.]\n",
      "  [1. 1.]\n",
      "  [1. 1.]]\n",
      "\n",
      " [[1. 1.]\n",
      "  [1. 1.]\n",
      "  [1. 1.]]\n",
      "\n",
      " [[1. 1.]\n",
      "  [1. 1.]\n",
      "  [1. 1.]]\n",
      "\n",
      " [[1. 1.]\n",
      "  [1. 1.]\n",
      "  [1. 1.]]]\n",
      "zeros: [[[0. 0.]\n",
      "  [0. 0.]\n",
      "  [0. 0.]]\n",
      "\n",
      " [[0. 0.]\n",
      "  [0. 0.]\n",
      "  [0. 0.]]\n",
      "\n",
      " [[0. 0.]\n",
      "  [0. 0.]\n",
      "  [0. 0.]]\n",
      "\n",
      " [[0. 0.]\n",
      "  [0. 0.]\n",
      "  [0. 0.]]]\n",
      "random: [[[0.4891598  0.85623744]\n",
      "  [0.32013945 0.69655404]\n",
      "  [0.69969862 0.47349795]]\n",
      "\n",
      " [[0.5585266  0.22101148]\n",
      "  [0.64059246 0.88991331]\n",
      "  [0.16556285 0.37650944]]\n",
      "\n",
      " [[0.92928082 0.10627121]\n",
      "  [0.3310009  0.07417723]\n",
      "  [0.82973204 0.14709967]]\n",
      "\n",
      " [[0.88779145 0.28959006]\n",
      "  [0.76229305 0.97249507]\n",
      "  [0.98786565 0.77639312]]]\n"
     ]
    }
   ],
   "source": [
    "ones = np.ones((4,3,2))\n",
    "zeros = np.zeros((4,3,2))\n",
    "random = np.random.random((4,3,2))\n",
    "\n",
    "print('ones: {}'.format(ones))\n",
    "print('zeros: {}'.format(zeros))\n",
    "print('random: {}'.format(random))\n"
   ]
  },
  {
   "cell_type": "markdown",
   "metadata": {},
   "source": [
    "### Formula evaluations"
   ]
  },
  {
   "cell_type": "code",
   "execution_count": 24,
   "metadata": {},
   "outputs": [
    {
     "name": "stdout",
     "output_type": "stream",
     "text": [
      "error: 1.6666666666666665\n"
     ]
    }
   ],
   "source": [
    "# formula: mean-square-error = (1/n) sigma (i=1 to n)square of ((prediction(i) - y(i)))\n",
    "predictions = np.array([1,1,1])\n",
    "labels = np.array([1,2,3])\n",
    "n=3\n",
    "\n",
    "error=(1/n) * np.sum(np.square(predictions-labels))\n",
    "\n",
    "print('error: {}'.format(error))\n"
   ]
  },
  {
   "cell_type": "markdown",
   "metadata": {},
   "source": [
    "### Operations that modified the array itself (does not create a new array"
   ]
  },
  {
   "cell_type": "code",
   "execution_count": 19,
   "metadata": {},
   "outputs": [
    {
     "name": "stdout",
     "output_type": "stream",
     "text": [
      "a (before): [[1 1 1]\n",
      " [1 1 1]]\n",
      "b (before): [[0.86874083 0.47199269 0.79725744]\n",
      " [0.52684217 0.90635866 0.18028307]]\n",
      "a (after): [[3 3 3]\n",
      " [3 3 3]]\n",
      "b (after): [[3.86874083 3.47199269 3.79725744]\n",
      " [3.52684217 3.90635866 3.18028307]]\n"
     ]
    }
   ],
   "source": [
    "a = np.ones((2,3), dtype=int)\n",
    "b = np.random.random((2,3))\n",
    "print('a (before): {}'.format(a))\n",
    "print('b (before): {}'.format(b))\n",
    "a *= 3\n",
    "\n",
    "print('a (after): {}'.format(a))\n",
    "b += a\n",
    "print('b (after): {}'.format(b))"
   ]
  },
  {
   "cell_type": "markdown",
   "metadata": {},
   "source": [
    "### Universal functions (acts elementwise)\n"
   ]
  },
  {
   "cell_type": "code",
   "execution_count": 20,
   "metadata": {},
   "outputs": [
    {
     "name": "stdout",
     "output_type": "stream",
     "text": [
      "b: [0 1 2]\n",
      "c: [ 2. -1.  4.]\n",
      "np.exp(b): [1.         2.71828183 7.3890561 ]\n",
      "np.sqrt(b): [0.         1.         1.41421356]\n",
      "np.add(b,c): [2. 0. 6.]\n"
     ]
    }
   ],
   "source": [
    "b = np.arange(3)\n",
    "c = np.array([2., -1., 4.])\n",
    "print('b: {}'.format(b))\n",
    "print('c: {}'.format(c))\n",
    "\n",
    "print('np.exp(b): {}'.format(np.exp(b)))\n",
    "print('np.sqrt(b): {}'.format(np.sqrt(b)))\n",
    "print('np.add(b,c): {}'.format(np.add(b,c)))"
   ]
  },
  {
   "cell_type": "code",
   "execution_count": null,
   "metadata": {},
   "outputs": [],
   "source": []
  }
 ],
 "metadata": {
  "kernelspec": {
   "display_name": "Python 3",
   "language": "python",
   "name": "python3"
  },
  "language_info": {
   "codemirror_mode": {
    "name": "ipython",
    "version": 3
   },
   "file_extension": ".py",
   "mimetype": "text/x-python",
   "name": "python",
   "nbconvert_exporter": "python",
   "pygments_lexer": "ipython3",
   "version": "3.6.8"
  }
 },
 "nbformat": 4,
 "nbformat_minor": 1
}
