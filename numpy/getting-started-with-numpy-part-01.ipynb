{
 "cells": [
  {
   "cell_type": "markdown",
   "metadata": {},
   "source": [
    "# Introduction to NumPy - Part 01\n",
    "\n",
    "Purpose of this notebook is to provide an introduction to NumPy. \n",
    "This is part 1 of the series."
   ]
  },
  {
   "cell_type": "markdown",
   "metadata": {},
   "source": [
    "Before we explore more on NumPy, lets import NumPy and print the version being used"
   ]
  },
  {
   "cell_type": "code",
   "execution_count": 14,
   "metadata": {
    "_cell_guid": "b1076dfc-b9ad-4769-8c92-a6c4dae69d19",
    "_uuid": "8f2839f25d086af736a60e9eeb907d3b93b6e0e5"
   },
   "outputs": [
    {
     "name": "stdout",
     "output_type": "stream",
     "text": [
      "numpy version: 1.16.2\n"
     ]
    }
   ],
   "source": [
    "import numpy as np\n",
    "print('numpy version: {}'.format(np.__version__))"
   ]
  },
  {
   "cell_type": "markdown",
   "metadata": {},
   "source": [
    "Array initialization"
   ]
  },
  {
   "cell_type": "code",
   "execution_count": 15,
   "metadata": {},
   "outputs": [
    {
     "name": "stdout",
     "output_type": "stream",
     "text": [
      "data: [1 2 3 4 5]\n",
      "data.shape: (5,)\n",
      "ones: [1. 1. 1. 1. 1.]\n",
      "ones.shape: (5,)\n",
      "zeros: [0. 0. 0. 0. 0.]\n",
      "zeros.shape: (5,)\n",
      "random: [0.92058909 0.32292432 0.34403503 0.36371273 0.13475017]\n",
      "random.shape: (5,)\n"
     ]
    }
   ],
   "source": [
    "# initialize a numpy array\n",
    "data = np.array([1, 2, 3, 4, 5])\n",
    "\n",
    "# initialize an array with 5 ones\n",
    "ones = np.ones(5)\n",
    "\n",
    "# initialize an array with 5 zeros\n",
    "zeros = np.zeros(5)\n",
    "\n",
    "# initialize an array with 5 random numbers\n",
    "random = np.random.random(5)\n",
    "\n",
    "# print the arrays\n",
    "print('data: {}'.format(data))\n",
    "print('data.shape: {}'.format(data.shape))\n",
    "\n",
    "print('ones: {}'.format(ones))\n",
    "print('ones.shape: {}'.format(ones.shape))\n",
    "\n",
    "print('zeros: {}'.format(zeros))\n",
    "print('zeros.shape: {}'.format(zeros.shape))\n",
    "\n",
    "print('random: {}'.format(random))\n",
    "print('random.shape: {}'.format(random.shape))\n"
   ]
  },
  {
   "cell_type": "markdown",
   "metadata": {},
   "source": [
    "Perform basic operations on arrays and print the results"
   ]
  },
  {
   "cell_type": "code",
   "execution_count": 16,
   "metadata": {},
   "outputs": [
    {
     "name": "stdout",
     "output_type": "stream",
     "text": [
      "add_result:  [2. 3. 4. 5. 6.]\n",
      "subtraction_result:  [0. 1. 2. 3. 4.]\n",
      "multiplication_result:  [1. 2. 3. 4. 5.]\n",
      "division_result:  [1. 2. 3. 4. 5.]\n",
      "element_multiplication_result:  [1.5 3.  4.5 6.  7.5]\n"
     ]
    }
   ],
   "source": [
    "add_result = data + ones\n",
    "subtraction_result = data - ones\n",
    "multiplication_result = data * ones\n",
    "division_result = data / ones\n",
    "element_multiplication_result =  data * 1.5\n",
    "\n",
    "print('add_result: ', add_result)\n",
    "print('subtraction_result: ', subtraction_result)\n",
    "print('multiplication_result: ', multiplication_result)\n",
    "print('division_result: ', division_result)\n",
    "print('element_multiplication_result: ',element_multiplication_result)"
   ]
  },
  {
   "cell_type": "markdown",
   "metadata": {},
   "source": [
    "Basic indexing operations"
   ]
  },
  {
   "cell_type": "code",
   "execution_count": 17,
   "metadata": {},
   "outputs": [
    {
     "name": "stdout",
     "output_type": "stream",
     "text": [
      "data:  [1 2 3 4 5]\n",
      "data[0]:  1\n",
      "data[1]:  2\n",
      "data[0:2]:  [1 2]\n",
      "data[1:]:  [2 3 4 5]\n"
     ]
    }
   ],
   "source": [
    "print('data: ',data)\n",
    "print('data[0]: ',data[0])\n",
    "print('data[1]: ',data[1])\n",
    "print('data[0:2]: ',data[0:2])\n",
    "print('data[1:]: ',data[1:])\n"
   ]
  },
  {
   "cell_type": "markdown",
   "metadata": {},
   "source": [
    "Aggregation operations"
   ]
  },
  {
   "cell_type": "code",
   "execution_count": 18,
   "metadata": {},
   "outputs": [
    {
     "name": "stdout",
     "output_type": "stream",
     "text": [
      "data.max():  5\n",
      "data.min():  1\n",
      "data.sum():  15\n"
     ]
    }
   ],
   "source": [
    "print('data.max(): ',data.max())\n",
    "print('data.min(): ',data.min())\n",
    "print('data.sum(): ',data.sum())"
   ]
  },
  {
   "cell_type": "code",
   "execution_count": 19,
   "metadata": {},
   "outputs": [
    {
     "name": "stdout",
     "output_type": "stream",
     "text": [
      "data_2d:  [[1 2 3 4 5]\n",
      " [6 7 8 9 0]]\n",
      "ones_2d:  [[1. 1. 1. 1. 1.]\n",
      " [1. 1. 1. 1. 1.]]\n",
      "zeros_2d:  [[0. 0. 0. 0. 0.]\n",
      " [0. 0. 0. 0. 0.]]\n",
      "random_2d:  [[0.03505572 0.34442154 0.33962285 0.44026611 0.86149997]\n",
      " [0.30587031 0.98381489 0.25107596 0.08137569 0.05600544]]\n"
     ]
    }
   ],
   "source": [
    "data_2d = np.array([[1, 2, 3, 4, 5],[6,7,8,9,0]])\n",
    "ones_2d = np.ones((2,5))\n",
    "zeros_2d = np.zeros((2,5))\n",
    "random_2d = np.random.random((2,5))\n",
    "\n",
    "# print the arrays\n",
    "print('data_2d: ',data_2d)\n",
    "print('ones_2d: ',ones_2d)\n",
    "print('zeros_2d: ',zeros_2d)\n",
    "print('random_2d: ',random_2d)\n"
   ]
  },
  {
   "cell_type": "markdown",
   "metadata": {},
   "source": [
    "Matrix arithmetic"
   ]
  },
  {
   "cell_type": "code",
   "execution_count": 20,
   "metadata": {},
   "outputs": [
    {
     "name": "stdout",
     "output_type": "stream",
     "text": [
      "add_result_2d:  [[ 2.  3.  4.  5.  6.]\n",
      " [ 7.  8.  9. 10.  1.]]\n",
      "subtraction_result_2d:  [[ 0.  1.  2.  3.  4.]\n",
      " [ 5.  6.  7.  8. -1.]]\n",
      "multiplication_result_2d:  [[1. 2. 3. 4. 5.]\n",
      " [6. 7. 8. 9. 0.]]\n",
      "division_result_2d:  [[1. 2. 3. 4. 5.]\n",
      " [6. 7. 8. 9. 0.]]\n",
      "element_multiplication_result_2d:  [[ 2.5  3.5  4.5  5.5  6.5]\n",
      " [ 7.5  8.5  9.5 10.5  1.5]]\n"
     ]
    }
   ],
   "source": [
    "add_result_2d = data_2d + ones_2d\n",
    "subtraction_result_2d  = data_2d - ones_2d\n",
    "multiplication_result_2d  = data_2d * ones_2d\n",
    "division_result_2d  = data_2d / ones_2d\n",
    "element_multiplication_result_2d  = data_2d + 1.5\n",
    "\n",
    "print('add_result_2d: ', add_result_2d)\n",
    "print('subtraction_result_2d: ', subtraction_result_2d)\n",
    "print('multiplication_result_2d: ', multiplication_result_2d)\n",
    "print('division_result_2d: ', division_result_2d)\n",
    "print('element_multiplication_result_2d: ',element_multiplication_result_2d)"
   ]
  },
  {
   "cell_type": "markdown",
   "metadata": {},
   "source": [
    "Matrix operations: broadcasting"
   ]
  },
  {
   "cell_type": "code",
   "execution_count": 21,
   "metadata": {},
   "outputs": [
    {
     "name": "stdout",
     "output_type": "stream",
     "text": [
      "ones_1d:  [1. 1. 1. 1. 1.]\n",
      "add_result_2d:  [[ 2.  3.  4.  5.  6.]\n",
      " [ 7.  8.  9. 10.  1.]]\n"
     ]
    }
   ],
   "source": [
    "ones_1d = np.ones(5)\n",
    "print('ones_1d: ', ones_1d)\n",
    "add_result_2d = data_2d + np.ones(5)\n",
    "print('add_result_2d: ', add_result_2d)"
   ]
  },
  {
   "cell_type": "markdown",
   "metadata": {},
   "source": [
    "Dot product"
   ]
  },
  {
   "cell_type": "code",
   "execution_count": 22,
   "metadata": {},
   "outputs": [
    {
     "name": "stdout",
     "output_type": "stream",
     "text": [
      "dot_product_result_1: 14\n",
      "dot_product_result_2: [ 6 12]\n"
     ]
    }
   ],
   "source": [
    "data_2 = np.array([1,2,3])\n",
    "data_3 = np.array([1,2,3])\n",
    "data_4 = np.array([[1,2],[1,2],[1,2]])\n",
    "dot_product_result_1 = data_2.dot(data_3)\n",
    "print('dot_product_result_1:',dot_product_result_1)\n",
    "dot_product_result_2 = data_2.dot(data_4)\n",
    "print('dot_product_result_2:',dot_product_result_2)\n"
   ]
  },
  {
   "cell_type": "markdown",
   "metadata": {},
   "source": [
    "Matrix indexing"
   ]
  },
  {
   "cell_type": "code",
   "execution_count": 23,
   "metadata": {},
   "outputs": [
    {
     "name": "stdout",
     "output_type": "stream",
     "text": [
      "data:  [[1 2]\n",
      " [3 4]\n",
      " [5 6]]\n",
      "data[0,1]:  2\n",
      "data[1:3]:  [[3 4]\n",
      " [5 6]]\n",
      "data[0:2,0]:  [1 3]\n"
     ]
    }
   ],
   "source": [
    "data = np.array([[1,2],[3,4],[5,6]])\n",
    "print('data: ',data)\n",
    "print('data[0,1]: ',data[0,1])\n",
    "print('data[1:3]: ',data[1:3])\n",
    "print('data[0:2,0]: ',data[0:2,0])"
   ]
  },
  {
   "cell_type": "markdown",
   "metadata": {},
   "source": [
    "Matrix aggregation"
   ]
  },
  {
   "cell_type": "code",
   "execution_count": 24,
   "metadata": {},
   "outputs": [
    {
     "name": "stdout",
     "output_type": "stream",
     "text": [
      "data.max():  6\n",
      "data.min():  1\n",
      "data.sum():  21\n",
      "data.max(axis=0):  [5 6]\n",
      "data.max(axis=1):  [2 4 6]\n"
     ]
    }
   ],
   "source": [
    "print('data.max(): ',data.max())\n",
    "print('data.min(): ',data.min())\n",
    "print('data.sum(): ',data.sum())\n",
    "\n",
    "print('data.max(axis=0): ',data.max(axis=0))\n",
    "print('data.max(axis=1): ',data.max(axis=1))"
   ]
  },
  {
   "cell_type": "markdown",
   "metadata": {},
   "source": [
    "Transposing and reshaping"
   ]
  },
  {
   "cell_type": "code",
   "execution_count": 25,
   "metadata": {},
   "outputs": [
    {
     "name": "stdout",
     "output_type": "stream",
     "text": [
      "data.reshape(2,3):  [[1 2 3]\n",
      " [4 5 6]]\n",
      "data.reshape(3,2):  [[1 2]\n",
      " [3 4]\n",
      " [5 6]]\n"
     ]
    }
   ],
   "source": [
    "data = np.array([1,2,3,4,5,6])\n",
    "\n",
    "print('data.reshape(2,3): ',data.reshape(2,3))\n",
    "print('data.reshape(3,2): ',data.reshape(3,2))"
   ]
  },
  {
   "cell_type": "markdown",
   "metadata": {},
   "source": [
    "More dimensions"
   ]
  },
  {
   "cell_type": "code",
   "execution_count": 26,
   "metadata": {},
   "outputs": [
    {
     "name": "stdout",
     "output_type": "stream",
     "text": [
      "data_multi_ones:  [[[1. 1.]\n",
      "  [1. 1.]\n",
      "  [1. 1.]]\n",
      "\n",
      " [[1. 1.]\n",
      "  [1. 1.]\n",
      "  [1. 1.]]\n",
      "\n",
      " [[1. 1.]\n",
      "  [1. 1.]\n",
      "  [1. 1.]]\n",
      "\n",
      " [[1. 1.]\n",
      "  [1. 1.]\n",
      "  [1. 1.]]]\n",
      "data_multi_zeros:  [[[0. 0.]\n",
      "  [0. 0.]\n",
      "  [0. 0.]]\n",
      "\n",
      " [[0. 0.]\n",
      "  [0. 0.]\n",
      "  [0. 0.]]\n",
      "\n",
      " [[0. 0.]\n",
      "  [0. 0.]\n",
      "  [0. 0.]]\n",
      "\n",
      " [[0. 0.]\n",
      "  [0. 0.]\n",
      "  [0. 0.]]]\n",
      "data_multi_random:  [[[0.72535613 0.91444772]\n",
      "  [0.39594296 0.49410375]\n",
      "  [0.74145104 0.03007312]]\n",
      "\n",
      " [[0.99024105 0.72364944]\n",
      "  [0.04851409 0.75274374]\n",
      "  [0.78456259 0.93692941]]\n",
      "\n",
      " [[0.64504812 0.97807936]\n",
      "  [0.41404032 0.26667585]\n",
      "  [0.31517936 0.18102424]]\n",
      "\n",
      " [[0.96716937 0.22365156]\n",
      "  [0.49191569 0.38951694]\n",
      "  [0.78410031 0.03418828]]]\n"
     ]
    }
   ],
   "source": [
    "data_multi_ones = np.ones((4,3,2))\n",
    "data_multi_zeros = np.zeros((4,3,2))\n",
    "data_multi_random = np.random.random((4,3,2))\n",
    "\n",
    "print('data_multi_ones: ',data_multi_ones)\n",
    "print('data_multi_zeros: ',data_multi_zeros)\n",
    "print('data_multi_random: ',data_multi_random)"
   ]
  },
  {
   "cell_type": "markdown",
   "metadata": {},
   "source": [
    "Formula evaluations"
   ]
  },
  {
   "cell_type": "code",
   "execution_count": 27,
   "metadata": {},
   "outputs": [
    {
     "name": "stdout",
     "output_type": "stream",
     "text": [
      "error:  1.6666666666666665\n"
     ]
    }
   ],
   "source": [
    "# formula: mean-square-error = (1/n) sigma (i=1 to n)square of ((prediction(i) - y(i)))\n",
    "predictions = np.array([1,1,1])\n",
    "labels = np.array([1,2,3])\n",
    "n=3\n",
    "\n",
    "error=(1/n) * np.sum(np.square(predictions-labels))\n",
    "print('error: ', error)"
   ]
  }
 ],
 "metadata": {
  "kernelspec": {
   "display_name": "Python 3",
   "language": "python",
   "name": "python3"
  },
  "language_info": {
   "codemirror_mode": {
    "name": "ipython",
    "version": 3
   },
   "file_extension": ".py",
   "mimetype": "text/x-python",
   "name": "python",
   "nbconvert_exporter": "python",
   "pygments_lexer": "ipython3",
   "version": "3.6.8"
  }
 },
 "nbformat": 4,
 "nbformat_minor": 1
}
