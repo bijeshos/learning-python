{
 "cells": [
  {
   "cell_type": "markdown",
   "metadata": {},
   "source": [
    "# Introduction to NumPy - Part 01\n",
    "\n",
    "Purpose of this notebook is to provide an introduction to NumPy. \n",
    "This is part 1 of the series."
   ]
  },
  {
   "cell_type": "markdown",
   "metadata": {},
   "source": [
    "Before we explore more on NumPy, lets import NumPy and print the version being used"
   ]
  },
  {
   "cell_type": "code",
   "execution_count": 2,
   "metadata": {
    "_cell_guid": "b1076dfc-b9ad-4769-8c92-a6c4dae69d19",
    "_uuid": "8f2839f25d086af736a60e9eeb907d3b93b6e0e5"
   },
   "outputs": [
    {
     "name": "stdout",
     "output_type": "stream",
     "text": [
      "numpy version: 1.16.2\n"
     ]
    }
   ],
   "source": [
    "import numpy as np\n",
    "print('numpy version: {}'.format(np.__version__))"
   ]
  },
  {
   "cell_type": "markdown",
   "metadata": {},
   "source": [
    "Array initialization"
   ]
  },
  {
   "cell_type": "code",
   "execution_count": 13,
   "metadata": {},
   "outputs": [
    {
     "name": "stdout",
     "output_type": "stream",
     "text": [
      "data: [1 2 3 4 5]\n",
      "data.shape: (5,)\n",
      "ones: [1. 1. 1. 1. 1.]\n",
      "ones.shape: (5,)\n",
      "zeros: [0. 0. 0. 0. 0.]\n",
      "zeros.shape: (5,)\n",
      "random: [0.5743136  0.77721631 0.90196822 0.26154974 0.37180351]\n",
      "random.shape: (5,)\n"
     ]
    }
   ],
   "source": [
    "# initialize a numpy array\n",
    "data = np.array([1, 2, 3, 4, 5])\n",
    "\n",
    "# initialize an array with 5 ones\n",
    "ones = np.ones(5)\n",
    "\n",
    "# initialize an array with 5 zeros\n",
    "zeros = np.zeros(5)\n",
    "\n",
    "# initialize an array with 5 random numbers\n",
    "random = np.random.random(5)\n",
    "\n",
    "# print the arrays\n",
    "print('data: {}'.format(data))\n",
    "print('data.shape: {}'.format(data.shape))\n",
    "\n",
    "print('ones: {}'.format(ones))\n",
    "print('ones.shape: {}'.format(ones.shape))\n",
    "\n",
    "print('zeros: {}'.format(zeros))\n",
    "print('zeros.shape: {}'.format(zeros.shape))\n",
    "\n",
    "print('random: {}'.format(random))\n",
    "print('random.shape: {}'.format(random.shape))\n"
   ]
  },
  {
   "cell_type": "markdown",
   "metadata": {},
   "source": [
    "Perform basic operations on arrays and print the results"
   ]
  },
  {
   "cell_type": "code",
   "execution_count": null,
   "metadata": {},
   "outputs": [],
   "source": [
    "add_result = data + ones\n",
    "subtraction_result = data - ones\n",
    "multiplication_result = data * ones\n",
    "division_result = data / ones\n",
    "element_multiplication_result =  data * 1.5\n",
    "\n",
    "print('add_result: ', add_result)\n",
    "print('subtraction_result: ', subtraction_result)\n",
    "print('multiplication_result: ', multiplication_result)\n",
    "print('division_result: ', division_result)\n",
    "print('element_multiplication_result: ',element_multiplication_result)"
   ]
  },
  {
   "cell_type": "markdown",
   "metadata": {},
   "source": [
    "Basic indexing operations"
   ]
  },
  {
   "cell_type": "code",
   "execution_count": null,
   "metadata": {},
   "outputs": [],
   "source": [
    "print('data: ',data)\n",
    "print('data[0]: ',data[0])\n",
    "print('data[1]: ',data[1])\n",
    "print('data[0:2]: ',data[0:2])\n",
    "print('data[1:]: ',data[1:])\n"
   ]
  },
  {
   "cell_type": "markdown",
   "metadata": {},
   "source": [
    "Aggregation operations"
   ]
  },
  {
   "cell_type": "code",
   "execution_count": null,
   "metadata": {},
   "outputs": [],
   "source": [
    "print('data.max(): ',data.max())\n",
    "print('data.min(): ',data.min())\n",
    "print('data.sum(): ',data.sum())"
   ]
  },
  {
   "cell_type": "code",
   "execution_count": null,
   "metadata": {},
   "outputs": [],
   "source": [
    "data_2d = np.array([[1, 2, 3, 4, 5],[6,7,8,9,0]])\n",
    "ones_2d = np.ones((2,5))\n",
    "zeros_2d = np.zeros((2,5))\n",
    "random_2d = np.random.random((2,5))\n",
    "\n",
    "# print the arrays\n",
    "print('data_2d: ',data_2d)\n",
    "print('ones_2d: ',ones_2d)\n",
    "print('zeros_2d: ',zeros_2d)\n",
    "print('random_2d: ',random_2d)\n"
   ]
  },
  {
   "cell_type": "markdown",
   "metadata": {},
   "source": [
    "Matrix arithmetic"
   ]
  },
  {
   "cell_type": "code",
   "execution_count": null,
   "metadata": {},
   "outputs": [],
   "source": [
    "add_result_2d = data_2d + ones_2d\n",
    "subtraction_result_2d  = data_2d - ones_2d\n",
    "multiplication_result_2d  = data_2d * ones_2d\n",
    "division_result_2d  = data_2d / ones_2d\n",
    "element_multiplication_result_2d  = data_2d + 1.5\n",
    "\n",
    "print('add_result_2d: ', add_result_2d)\n",
    "print('subtraction_result_2d: ', subtraction_result_2d)\n",
    "print('multiplication_result_2d: ', multiplication_result_2d)\n",
    "print('division_result_2d: ', division_result_2d)\n",
    "print('element_multiplication_result_2d: ',element_multiplication_result_2d)"
   ]
  },
  {
   "cell_type": "markdown",
   "metadata": {},
   "source": [
    "Matrix operations: broadcasting"
   ]
  },
  {
   "cell_type": "code",
   "execution_count": null,
   "metadata": {},
   "outputs": [],
   "source": [
    "ones_1d = np.ones(5)\n",
    "print('ones_1d: ', ones_1d)\n",
    "add_result_2d = data_2d + np.ones(5)\n",
    "print('add_result_2d: ', add_result_2d)"
   ]
  },
  {
   "cell_type": "markdown",
   "metadata": {},
   "source": [
    "Dot product"
   ]
  },
  {
   "cell_type": "code",
   "execution_count": null,
   "metadata": {},
   "outputs": [],
   "source": [
    "data_2 = np.array([1,2,3])\n",
    "data_3 = np.array([1,2,3])\n",
    "data_4 = np.array([[1,2],[1,2],[1,2]])\n",
    "dot_product_result_1 = data_2.dot(data_3)\n",
    "print('dot_product_result_1:',dot_product_result_1)\n",
    "dot_product_result_2 = data_2.dot(data_4)\n",
    "print('dot_product_result_2:',dot_product_result_2)\n"
   ]
  },
  {
   "cell_type": "markdown",
   "metadata": {},
   "source": [
    "Matrix indexing"
   ]
  },
  {
   "cell_type": "code",
   "execution_count": null,
   "metadata": {},
   "outputs": [],
   "source": [
    "data = np.array([[1,2],[3,4],[5,6]])\n",
    "print('data: ',data)\n",
    "print('data[0,1]: ',data[0,1])\n",
    "print('data[1:3]: ',data[1:3])\n",
    "print('data[0:2,0]: ',data[0:2,0])"
   ]
  },
  {
   "cell_type": "markdown",
   "metadata": {},
   "source": [
    "Matrix aggregation"
   ]
  },
  {
   "cell_type": "code",
   "execution_count": null,
   "metadata": {},
   "outputs": [],
   "source": [
    "print('data.max(): ',data.max())\n",
    "print('data.min(): ',data.min())\n",
    "print('data.sum(): ',data.sum())\n",
    "\n",
    "print('data.max(axis=0): ',data.max(axis=0))\n",
    "print('data.max(axis=1): ',data.max(axis=1))"
   ]
  },
  {
   "cell_type": "markdown",
   "metadata": {},
   "source": [
    "Transposing and reshaping"
   ]
  },
  {
   "cell_type": "code",
   "execution_count": null,
   "metadata": {},
   "outputs": [],
   "source": [
    "data = np.array([1,2,3,4,5,6])\n",
    "\n",
    "print('data.reshape(2,3): ',data.reshape(2,3))\n",
    "print('data.reshape(3,2): ',data.reshape(3,2))"
   ]
  },
  {
   "cell_type": "markdown",
   "metadata": {},
   "source": [
    "More dimensions"
   ]
  },
  {
   "cell_type": "code",
   "execution_count": null,
   "metadata": {},
   "outputs": [],
   "source": [
    "data_multi_ones = np.ones((4,3,2))\n",
    "data_multi_zeros = np.zeros((4,3,2))\n",
    "data_multi_random = np.random.random((4,3,2))\n",
    "\n",
    "print('data_multi_ones: ',data_multi_ones)\n",
    "print('data_multi_zeros: ',data_multi_zeros)\n",
    "print('data_multi_random: ',data_multi_random)"
   ]
  },
  {
   "cell_type": "markdown",
   "metadata": {},
   "source": [
    "Formula evaluations"
   ]
  },
  {
   "cell_type": "code",
   "execution_count": null,
   "metadata": {},
   "outputs": [],
   "source": [
    "# formula: mean-square-error = (1/n) sigma (i=1 to n)square of ((prediction(i) - y(i)))\n",
    "predictions = np.array([1,1,1])\n",
    "labels = np.array([1,2,3])\n",
    "n=3\n",
    "\n",
    "error=(1/n) * np.sum(np.square(predictions-labels))\n",
    "print('error: ', error)"
   ]
  }
 ],
 "metadata": {
  "kernelspec": {
   "display_name": "Python 3",
   "language": "python",
   "name": "python3"
  },
  "language_info": {
   "codemirror_mode": {
    "name": "ipython",
    "version": 3
   },
   "file_extension": ".py",
   "mimetype": "text/x-python",
   "name": "python",
   "nbconvert_exporter": "python",
   "pygments_lexer": "ipython3",
   "version": "3.6.8"
  }
 },
 "nbformat": 4,
 "nbformat_minor": 1
}
